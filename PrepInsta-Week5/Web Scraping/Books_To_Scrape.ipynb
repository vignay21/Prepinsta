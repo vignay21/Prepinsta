{
 "cells": [
  {
   "cell_type": "markdown",
   "metadata": {
    "id": "clDfctxtFqSZ"
   },
   "source": [
    "#**Week-5 Assignment**\n",
    "##**Web Scraping**\n",
    "\n",
    "---\n",
    "\n",
    "The aim for this asssignment is to scrap a website of book seller :\n",
    "[Books to Scrap](http://books.toscrape.com/)<br>\n",
    "\n",
    "From this website, we need to create a dataframe table with following columns:\n",
    "* `title`\n",
    "* `rating`\n",
    "* `price`\n",
    "* `link`\n",
    "\n",
    "We need to use multiple libraries for this assignment which are: `requests` , `BeautifulSoup` and `pandas`"
   ]
  },
  {
   "cell_type": "markdown",
   "metadata": {
    "id": "0EKGobVtu3iz"
   },
   "source": [
    "##**Import the Libraries**"
   ]
  },
  {
   "cell_type": "markdown",
   "metadata": {
    "id": "3y3rSwG4l-f6"
   },
   "source": [
    "First we will import the libraries required to scrap the data from the website.\n",
    "<br>\n",
    "The libraries required for the operation:\n",
    "* `requestd` : For handling HTTP Request\n",
    "* `BeautifulSoap` : Used for parsing and extracting the elements\n",
    "* `csv` : To handle manipulate the .csv files\n",
    "* `pandas` : For Data Manipulation"
   ]
  },
  {
   "cell_type": "code",
   "execution_count": 1,
   "metadata": {
    "id": "35QOzv76uaVg"
   },
   "outputs": [],
   "source": [
    "import requests                           # For HTTP request handling\n",
    "from bs4 import BeautifulSoup as bs       # Used for HTML parsing\n",
    "import csv                                # In order to handle CSV file\n",
    "import pandas as pd                       # Data manipulation"
   ]
  },
  {
   "cell_type": "markdown",
   "metadata": {
    "id": "Dn5eu0aQwLGK"
   },
   "source": [
    "##**Get URL and send GET request**"
   ]
  },
  {
   "cell_type": "markdown",
   "metadata": {
    "id": "aR_4AJBfmqrE"
   },
   "source": [
    "In order to get the data from the rquired website:\n",
    "* We will use the `requests` library to send request to the website\n",
    "* If request is accepted, then show the status"
   ]
  },
  {
   "cell_type": "code",
   "execution_count": 2,
   "metadata": {
    "colab": {
     "base_uri": "https://localhost:8080/"
    },
    "id": "FLBbWqHPwTYd",
    "outputId": "c04ec33d-875f-41c3-aa7d-5ce19a7b8471"
   },
   "outputs": [
    {
     "name": "stdout",
     "output_type": "stream",
     "text": [
      "Request Successful\n"
     ]
    }
   ],
   "source": [
    "url = \"http://books.toscrape.com/\"\n",
    "response = requests.get(url)        # Sending a request to the specified URL\n",
    "\n",
    "if response.status_code == 200:     # Checking if the request was successful\n",
    "    print(\"Request Successful\")     # Printing a success message if the status code is 200\n",
    "else:\n",
    "    print(\"Request Failed\")         # Printing a failure message if the status code is not 200\n"
   ]
  },
  {
   "cell_type": "markdown",
   "metadata": {
    "id": "rmzDiXAM40kR"
   },
   "source": [
    "##**Parse the HTML Content**"
   ]
  },
  {
   "cell_type": "markdown",
   "metadata": {
    "id": "uzHTVAXLnMGv"
   },
   "source": [
    "After successfully getting the data, we will first view the format of `HTML` text, till 1000 characters."
   ]
  },
  {
   "cell_type": "code",
   "execution_count": 3,
   "metadata": {
    "colab": {
     "base_uri": "https://localhost:8080/"
    },
    "id": "aFx-fvN33bCf",
    "outputId": "f5139647-d003-450e-aae4-4209572a6be8"
   },
   "outputs": [
    {
     "name": "stdout",
     "output_type": "stream",
     "text": [
      "<!DOCTYPE html>\n",
      "<!--[if lt IE 7]>      <html lang=\"en-us\" class=\"no-js lt-ie9 lt-ie8 lt-ie7\"> <![endif]-->\n",
      "<!--[if IE 7]>         <html lang=\"en-us\" class=\"no-js lt-ie9 lt-ie8\"> <![endif]-->\n",
      "<!--[if IE 8]>         <html lang=\"en-us\" class=\"no-js lt-ie9\"> <![endif]-->\n",
      "<!--[if gt IE 8]><!--> <html lang=\"en-us\" class=\"no-js\"> <!--<![endif]-->\n",
      "    <head>\n",
      "        <title>\n",
      "    All products | Books to Scrape - Sandbox\n",
      "</title>\n",
      "\n",
      "        <meta http-equiv=\"content-type\" content=\"text/html; charset=UTF-8\" />\n",
      "        <meta name=\"created\" content=\"24th Jun 2016 09:29\" />\n",
      "        <meta name=\"description\" content=\"\" />\n",
      "        <meta name=\"viewport\" content=\"width=device-width\" />\n",
      "        <meta name=\"robots\" content=\"NOARCHIVE,NOCACHE\" />\n",
      "\n",
      "        <!-- Le HTML5 shim, for IE6-8 support of HTML elements -->\n",
      "        <!--[if lt IE 9]>\n",
      "        <script src=\"//html5shim.googlecode.com/svn/trunk/html5.js\"></script>\n",
      "        <![endif]-->\n",
      "\n",
      "        \n",
      "            <link rel=\"shortcut icon\" href=\"static/oscar/favicon.\n"
     ]
    }
   ],
   "source": [
    "print(response.text[:1000])         # Printing the first 1000 characters of the response text"
   ]
  },
  {
   "cell_type": "markdown",
   "metadata": {
    "id": "2I6TEg5mnc_J"
   },
   "source": [
    "After viewing, we will sparse the `HTML` file using `BeautifulSoup` library."
   ]
  },
  {
   "cell_type": "code",
   "execution_count": 4,
   "metadata": {
    "colab": {
     "base_uri": "https://localhost:8080/"
    },
    "id": "AKqP8DeH44J6",
    "outputId": "bba92714-efb0-42e2-c468-100cc1288a50"
   },
   "outputs": [
    {
     "name": "stdout",
     "output_type": "stream",
     "text": [
      "<class 'bs4.BeautifulSoup'>\n"
     ]
    }
   ],
   "source": [
    "soup = bs(response.text, \"html.parser\")     # Creating a BeautifulSoup object for HTML parsing\n",
    "print(type(soup))                           # Printing the type of the 'soup' object"
   ]
  },
  {
   "cell_type": "markdown",
   "metadata": {
    "id": "bxpputWC62ug"
   },
   "source": [
    "##**Extract Details for 1 Book**"
   ]
  },
  {
   "cell_type": "markdown",
   "metadata": {
    "id": "QheZS8junpbu"
   },
   "source": [
    "In order to get successful result, we will follow the following steps:\n",
    "1. *Scrap the data of 1 Book*\n",
    "2. *Scrap the data of all the books in 1 page*\n",
    "3. *Scrap the data pf all the books of all 50 pages*"
   ]
  },
  {
   "cell_type": "markdown",
   "metadata": {
    "id": "slOxZvi0oM-0"
   },
   "source": [
    "First we will find all the `<article>` tags in the website.<br>\n",
    "Then we will print and view the first content of `<article>` tag."
   ]
  },
  {
   "cell_type": "code",
   "execution_count": 5,
   "metadata": {
    "colab": {
     "base_uri": "https://localhost:8080/"
    },
    "id": "O2ftAOwlNVFL",
    "outputId": "cd57d336-43c8-4525-d113-26e2ed5211c0"
   },
   "outputs": [
    {
     "data": {
      "text/plain": [
       "<article class=\"product_pod\">\n",
       "<div class=\"image_container\">\n",
       "<a href=\"catalogue/a-light-in-the-attic_1000/index.html\"><img alt=\"A Light in the Attic\" class=\"thumbnail\" src=\"media/cache/2c/da/2cdad67c44b002e7ead0cc35693c0e8b.jpg\"/></a>\n",
       "</div>\n",
       "<p class=\"star-rating Three\">\n",
       "<i class=\"icon-star\"></i>\n",
       "<i class=\"icon-star\"></i>\n",
       "<i class=\"icon-star\"></i>\n",
       "<i class=\"icon-star\"></i>\n",
       "<i class=\"icon-star\"></i>\n",
       "</p>\n",
       "<h3><a href=\"catalogue/a-light-in-the-attic_1000/index.html\" title=\"A Light in the Attic\">A Light in the ...</a></h3>\n",
       "<div class=\"product_price\">\n",
       "<p class=\"price_color\">Â£51.77</p>\n",
       "<p class=\"instock availability\">\n",
       "<i class=\"icon-ok\"></i>\n",
       "    \n",
       "        In stock\n",
       "    \n",
       "</p>\n",
       "<form>\n",
       "<button class=\"btn btn-primary btn-block\" data-loading-text=\"Adding...\" type=\"submit\">Add to basket</button>\n",
       "</form>\n",
       "</div>\n",
       "</article>"
      ]
     },
     "execution_count": 5,
     "metadata": {},
     "output_type": "execute_result"
    }
   ],
   "source": [
    "books = soup.find_all('article', class_='product_pod')    # Finding all HTML elements with the specified class\n",
    "single_book = books[0]                                    # Accessing the first book element\n",
    "single_book                                               # Printing the details of the first book element"
   ]
  },
  {
   "cell_type": "markdown",
   "metadata": {
    "id": "wN2JdYlmoca_"
   },
   "source": [
    "Now we will extract the `title` attribute value from the first book element of `<anchor>` tag."
   ]
  },
  {
   "cell_type": "code",
   "execution_count": 6,
   "metadata": {
    "colab": {
     "base_uri": "https://localhost:8080/",
     "height": 35
    },
    "id": "mYyyBpQh4Zst",
    "outputId": "f2c8af09-e95b-445e-b582-eccac09fa5f2"
   },
   "outputs": [
    {
     "data": {
      "text/plain": [
       "'A Light in the Attic'"
      ]
     },
     "execution_count": 6,
     "metadata": {},
     "output_type": "execute_result"
    }
   ],
   "source": [
    "title = single_book.find('a', title=True)['title']  # Extracting the 'title' attribute value from the first book element\n",
    "title"
   ]
  },
  {
   "cell_type": "markdown",
   "metadata": {
    "id": "z27pgef1oqWG"
   },
   "source": [
    "Now we will extract the `star-rating` class value from the first book element of `<paragraph>` tag."
   ]
  },
  {
   "cell_type": "code",
   "execution_count": 7,
   "metadata": {
    "colab": {
     "base_uri": "https://localhost:8080/",
     "height": 35
    },
    "id": "3trdOezu6COr",
    "outputId": "df272d4c-8883-4fc8-f5a8-37f719f0745c"
   },
   "outputs": [
    {
     "data": {
      "text/plain": [
       "'Three'"
      ]
     },
     "execution_count": 7,
     "metadata": {},
     "output_type": "execute_result"
    }
   ],
   "source": [
    "rating = single_book.find('p', class_='star-rating')['class'][1]  # Extracting the rating class value from the first book element\n",
    "rating"
   ]
  },
  {
   "cell_type": "markdown",
   "metadata": {
    "id": "qBeRPlwkow4v"
   },
   "source": [
    "Now we will extract and clean the `price_color` class value from the first book element of `<paragraph>` tag."
   ]
  },
  {
   "cell_type": "code",
   "execution_count": 8,
   "metadata": {
    "colab": {
     "base_uri": "https://localhost:8080/",
     "height": 35
    },
    "id": "2-iJRiQ265Lh",
    "outputId": "63fcd49a-dc6f-48a1-f9f4-200a9ae4d8cd"
   },
   "outputs": [
    {
     "data": {
      "text/plain": [
       "'£51.77'"
      ]
     },
     "execution_count": 8,
     "metadata": {},
     "output_type": "execute_result"
    }
   ],
   "source": [
    "price = single_book.find('p', class_='price_color').text.strip().strip('Â')  # Extracting and cleaning the price of the first book\n",
    "price"
   ]
  },
  {
   "cell_type": "markdown",
   "metadata": {
    "id": "FN6ESP4Xo-n2"
   },
   "source": [
    "Now we will extract the `href` attribute value from the first book element of `<anchor>` tag.<br>\n",
    "After that, we will concatenate the initial `url` to `book_url`."
   ]
  },
  {
   "cell_type": "code",
   "execution_count": 9,
   "metadata": {
    "colab": {
     "base_uri": "https://localhost:8080/",
     "height": 35
    },
    "id": "c1MCYDOv701x",
    "outputId": "66d81b39-b499-4c69-d795-872c7d38bfb0"
   },
   "outputs": [
    {
     "data": {
      "text/plain": [
       "'http://books.toscrape.com/catalogue/a-light-in-the-attic_1000/index.html'"
      ]
     },
     "execution_count": 9,
     "metadata": {},
     "output_type": "execute_result"
    }
   ],
   "source": [
    "book_url = single_book.find('a')['href']        # Extracting the URL for the first book\n",
    "link = url + book_url                           # Creating the complete URL for the book\n",
    "link"
   ]
  },
  {
   "cell_type": "markdown",
   "metadata": {
    "id": "-jirI0_e82bY"
   },
   "source": [
    "##**Extract Book Details for 1 Page**"
   ]
  },
  {
   "cell_type": "markdown",
   "metadata": {
    "id": "ylRwUdd-qJfT"
   },
   "source": [
    "Using BeautifulSoup to find and extract book details from a single webpage:\n",
    "\n",
    "1. Finds all `HTML` elements representing individual books.\n",
    "2. Initializes an empty list to store book details.\n",
    "3. For each book:\n",
    "    - Extracting the book's title.\n",
    "    - Extracting the book's rating.\n",
    "    - Cleaning and extracting the book's price.\n",
    "    - Extracting the book's URL and creating a complete link.\n",
    "    - Appending all these details to a list."
   ]
  },
  {
   "cell_type": "code",
   "execution_count": 10,
   "metadata": {
    "id": "G6B1nsCB9BfS"
   },
   "outputs": [],
   "source": [
    "books = soup.find_all('article', class_='product_pod')  # Finding all book elements\n",
    "books_data = []                                         # List to store book details\n",
    "\n",
    "for book in books:                                                            # Iterating through each book element\n",
    "    title = book.find('a', title=True)['title']                               # Extracting the title of the book\n",
    "    rating = book.find('p', class_='star-rating')['class'][1]                 # Extracting the rating of the book\n",
    "    price = book.find('p', class_='price_color').text.strip().strip('Â')      # Extracting and cleaning the price\n",
    "    book_url = book.find('a')['href']                                         # Extracting the URL for the book\n",
    "    link = url + book_url                                                     # Creating the complete URL for the book\n",
    "\n",
    "    books_data.append([title, rating, price, link])                           # Appending book details to the list\n"
   ]
  },
  {
   "cell_type": "markdown",
   "metadata": {
    "id": "VqCi2wOYqf5D"
   },
   "source": [
    "Creating a DataFrame using `Pandas`.\n"
   ]
  },
  {
   "cell_type": "code",
   "execution_count": 11,
   "metadata": {
    "colab": {
     "base_uri": "https://localhost:8080/",
     "height": 677
    },
    "id": "2dfwCvf--6S0",
    "outputId": "dab60fae-69b9-43fa-c2db-c14a9d21ee2e"
   },
   "outputs": [
    {
     "data": {
      "text/html": [
       "<div>\n",
       "<style scoped>\n",
       "    .dataframe tbody tr th:only-of-type {\n",
       "        vertical-align: middle;\n",
       "    }\n",
       "\n",
       "    .dataframe tbody tr th {\n",
       "        vertical-align: top;\n",
       "    }\n",
       "\n",
       "    .dataframe thead th {\n",
       "        text-align: right;\n",
       "    }\n",
       "</style>\n",
       "<table border=\"1\" class=\"dataframe\">\n",
       "  <thead>\n",
       "    <tr style=\"text-align: right;\">\n",
       "      <th></th>\n",
       "      <th>title</th>\n",
       "      <th>rating</th>\n",
       "      <th>price</th>\n",
       "      <th>link</th>\n",
       "    </tr>\n",
       "  </thead>\n",
       "  <tbody>\n",
       "    <tr>\n",
       "      <th>0</th>\n",
       "      <td>A Light in the Attic</td>\n",
       "      <td>Three</td>\n",
       "      <td>£51.77</td>\n",
       "      <td>http://books.toscrape.com/catalogue/a-light-in...</td>\n",
       "    </tr>\n",
       "    <tr>\n",
       "      <th>1</th>\n",
       "      <td>Tipping the Velvet</td>\n",
       "      <td>One</td>\n",
       "      <td>£53.74</td>\n",
       "      <td>http://books.toscrape.com/catalogue/tipping-th...</td>\n",
       "    </tr>\n",
       "    <tr>\n",
       "      <th>2</th>\n",
       "      <td>Soumission</td>\n",
       "      <td>One</td>\n",
       "      <td>£50.10</td>\n",
       "      <td>http://books.toscrape.com/catalogue/soumission...</td>\n",
       "    </tr>\n",
       "    <tr>\n",
       "      <th>3</th>\n",
       "      <td>Sharp Objects</td>\n",
       "      <td>Four</td>\n",
       "      <td>£47.82</td>\n",
       "      <td>http://books.toscrape.com/catalogue/sharp-obje...</td>\n",
       "    </tr>\n",
       "    <tr>\n",
       "      <th>4</th>\n",
       "      <td>Sapiens: A Brief History of Humankind</td>\n",
       "      <td>Five</td>\n",
       "      <td>£54.23</td>\n",
       "      <td>http://books.toscrape.com/catalogue/sapiens-a-...</td>\n",
       "    </tr>\n",
       "    <tr>\n",
       "      <th>5</th>\n",
       "      <td>The Requiem Red</td>\n",
       "      <td>One</td>\n",
       "      <td>£22.65</td>\n",
       "      <td>http://books.toscrape.com/catalogue/the-requie...</td>\n",
       "    </tr>\n",
       "    <tr>\n",
       "      <th>6</th>\n",
       "      <td>The Dirty Little Secrets of Getting Your Dream...</td>\n",
       "      <td>Four</td>\n",
       "      <td>£33.34</td>\n",
       "      <td>http://books.toscrape.com/catalogue/the-dirty-...</td>\n",
       "    </tr>\n",
       "    <tr>\n",
       "      <th>7</th>\n",
       "      <td>The Coming Woman: A Novel Based on the Life of...</td>\n",
       "      <td>Three</td>\n",
       "      <td>£17.93</td>\n",
       "      <td>http://books.toscrape.com/catalogue/the-coming...</td>\n",
       "    </tr>\n",
       "    <tr>\n",
       "      <th>8</th>\n",
       "      <td>The Boys in the Boat: Nine Americans and Their...</td>\n",
       "      <td>Four</td>\n",
       "      <td>£22.60</td>\n",
       "      <td>http://books.toscrape.com/catalogue/the-boys-i...</td>\n",
       "    </tr>\n",
       "    <tr>\n",
       "      <th>9</th>\n",
       "      <td>The Black Maria</td>\n",
       "      <td>One</td>\n",
       "      <td>£52.15</td>\n",
       "      <td>http://books.toscrape.com/catalogue/the-black-...</td>\n",
       "    </tr>\n",
       "    <tr>\n",
       "      <th>10</th>\n",
       "      <td>Starving Hearts (Triangular Trade Trilogy, #1)</td>\n",
       "      <td>Two</td>\n",
       "      <td>£13.99</td>\n",
       "      <td>http://books.toscrape.com/catalogue/starving-h...</td>\n",
       "    </tr>\n",
       "    <tr>\n",
       "      <th>11</th>\n",
       "      <td>Shakespeare's Sonnets</td>\n",
       "      <td>Four</td>\n",
       "      <td>£20.66</td>\n",
       "      <td>http://books.toscrape.com/catalogue/shakespear...</td>\n",
       "    </tr>\n",
       "    <tr>\n",
       "      <th>12</th>\n",
       "      <td>Set Me Free</td>\n",
       "      <td>Five</td>\n",
       "      <td>£17.46</td>\n",
       "      <td>http://books.toscrape.com/catalogue/set-me-fre...</td>\n",
       "    </tr>\n",
       "    <tr>\n",
       "      <th>13</th>\n",
       "      <td>Scott Pilgrim's Precious Little Life (Scott Pi...</td>\n",
       "      <td>Five</td>\n",
       "      <td>£52.29</td>\n",
       "      <td>http://books.toscrape.com/catalogue/scott-pilg...</td>\n",
       "    </tr>\n",
       "    <tr>\n",
       "      <th>14</th>\n",
       "      <td>Rip it Up and Start Again</td>\n",
       "      <td>Five</td>\n",
       "      <td>£35.02</td>\n",
       "      <td>http://books.toscrape.com/catalogue/rip-it-up-...</td>\n",
       "    </tr>\n",
       "    <tr>\n",
       "      <th>15</th>\n",
       "      <td>Our Band Could Be Your Life: Scenes from the A...</td>\n",
       "      <td>Three</td>\n",
       "      <td>£57.25</td>\n",
       "      <td>http://books.toscrape.com/catalogue/our-band-c...</td>\n",
       "    </tr>\n",
       "    <tr>\n",
       "      <th>16</th>\n",
       "      <td>Olio</td>\n",
       "      <td>One</td>\n",
       "      <td>£23.88</td>\n",
       "      <td>http://books.toscrape.com/catalogue/olio_984/i...</td>\n",
       "    </tr>\n",
       "    <tr>\n",
       "      <th>17</th>\n",
       "      <td>Mesaerion: The Best Science Fiction Stories 18...</td>\n",
       "      <td>One</td>\n",
       "      <td>£37.59</td>\n",
       "      <td>http://books.toscrape.com/catalogue/mesaerion-...</td>\n",
       "    </tr>\n",
       "    <tr>\n",
       "      <th>18</th>\n",
       "      <td>Libertarianism for Beginners</td>\n",
       "      <td>Two</td>\n",
       "      <td>£51.33</td>\n",
       "      <td>http://books.toscrape.com/catalogue/libertaria...</td>\n",
       "    </tr>\n",
       "    <tr>\n",
       "      <th>19</th>\n",
       "      <td>It's Only the Himalayas</td>\n",
       "      <td>Two</td>\n",
       "      <td>£45.17</td>\n",
       "      <td>http://books.toscrape.com/catalogue/its-only-t...</td>\n",
       "    </tr>\n",
       "  </tbody>\n",
       "</table>\n",
       "</div>"
      ],
      "text/plain": [
       "                                                title rating   price  \\\n",
       "0                                A Light in the Attic  Three  £51.77   \n",
       "1                                  Tipping the Velvet    One  £53.74   \n",
       "2                                          Soumission    One  £50.10   \n",
       "3                                       Sharp Objects   Four  £47.82   \n",
       "4               Sapiens: A Brief History of Humankind   Five  £54.23   \n",
       "5                                     The Requiem Red    One  £22.65   \n",
       "6   The Dirty Little Secrets of Getting Your Dream...   Four  £33.34   \n",
       "7   The Coming Woman: A Novel Based on the Life of...  Three  £17.93   \n",
       "8   The Boys in the Boat: Nine Americans and Their...   Four  £22.60   \n",
       "9                                     The Black Maria    One  £52.15   \n",
       "10     Starving Hearts (Triangular Trade Trilogy, #1)    Two  £13.99   \n",
       "11                              Shakespeare's Sonnets   Four  £20.66   \n",
       "12                                        Set Me Free   Five  £17.46   \n",
       "13  Scott Pilgrim's Precious Little Life (Scott Pi...   Five  £52.29   \n",
       "14                          Rip it Up and Start Again   Five  £35.02   \n",
       "15  Our Band Could Be Your Life: Scenes from the A...  Three  £57.25   \n",
       "16                                               Olio    One  £23.88   \n",
       "17  Mesaerion: The Best Science Fiction Stories 18...    One  £37.59   \n",
       "18                       Libertarianism for Beginners    Two  £51.33   \n",
       "19                            It's Only the Himalayas    Two  £45.17   \n",
       "\n",
       "                                                 link  \n",
       "0   http://books.toscrape.com/catalogue/a-light-in...  \n",
       "1   http://books.toscrape.com/catalogue/tipping-th...  \n",
       "2   http://books.toscrape.com/catalogue/soumission...  \n",
       "3   http://books.toscrape.com/catalogue/sharp-obje...  \n",
       "4   http://books.toscrape.com/catalogue/sapiens-a-...  \n",
       "5   http://books.toscrape.com/catalogue/the-requie...  \n",
       "6   http://books.toscrape.com/catalogue/the-dirty-...  \n",
       "7   http://books.toscrape.com/catalogue/the-coming...  \n",
       "8   http://books.toscrape.com/catalogue/the-boys-i...  \n",
       "9   http://books.toscrape.com/catalogue/the-black-...  \n",
       "10  http://books.toscrape.com/catalogue/starving-h...  \n",
       "11  http://books.toscrape.com/catalogue/shakespear...  \n",
       "12  http://books.toscrape.com/catalogue/set-me-fre...  \n",
       "13  http://books.toscrape.com/catalogue/scott-pilg...  \n",
       "14  http://books.toscrape.com/catalogue/rip-it-up-...  \n",
       "15  http://books.toscrape.com/catalogue/our-band-c...  \n",
       "16  http://books.toscrape.com/catalogue/olio_984/i...  \n",
       "17  http://books.toscrape.com/catalogue/mesaerion-...  \n",
       "18  http://books.toscrape.com/catalogue/libertaria...  \n",
       "19  http://books.toscrape.com/catalogue/its-only-t...  "
      ]
     },
     "execution_count": 11,
     "metadata": {},
     "output_type": "execute_result"
    }
   ],
   "source": [
    "page = pd.DataFrame(books_data, columns=[\"title\",\"rating\",\"price\",\"link\"])    # Creating a DataFrame from books_data\n",
    "page"
   ]
  },
  {
   "cell_type": "markdown",
   "metadata": {
    "id": "_mm2LSol_GSy"
   },
   "source": [
    "##**Extract Book Details for All 50 Pages**"
   ]
  },
  {
   "cell_type": "markdown",
   "metadata": {
    "id": "nID9fiWNqv9Z"
   },
   "source": [
    "Firstly, using a `for` loop to iterate over page numbers from `1 to 50 (inclusive)`. <br>Then constructing the `URL` for each page, using f-string formatting. <br>After that we will print and display each generated page `URL` during the loop execution."
   ]
  },
  {
   "cell_type": "code",
   "execution_count": 12,
   "metadata": {
    "colab": {
     "base_uri": "https://localhost:8080/"
    },
    "id": "UCsImeTw_CkY",
    "outputId": "7f6426a9-a51f-44d7-8cba-be8356977c49"
   },
   "outputs": [
    {
     "name": "stdout",
     "output_type": "stream",
     "text": [
      "http://books.toscrape.com/catalogue/page-1.html\n",
      "http://books.toscrape.com/catalogue/page-2.html\n",
      "http://books.toscrape.com/catalogue/page-3.html\n",
      "http://books.toscrape.com/catalogue/page-4.html\n",
      "http://books.toscrape.com/catalogue/page-5.html\n",
      "http://books.toscrape.com/catalogue/page-6.html\n",
      "http://books.toscrape.com/catalogue/page-7.html\n",
      "http://books.toscrape.com/catalogue/page-8.html\n",
      "http://books.toscrape.com/catalogue/page-9.html\n",
      "http://books.toscrape.com/catalogue/page-10.html\n",
      "http://books.toscrape.com/catalogue/page-11.html\n",
      "http://books.toscrape.com/catalogue/page-12.html\n",
      "http://books.toscrape.com/catalogue/page-13.html\n",
      "http://books.toscrape.com/catalogue/page-14.html\n",
      "http://books.toscrape.com/catalogue/page-15.html\n",
      "http://books.toscrape.com/catalogue/page-16.html\n",
      "http://books.toscrape.com/catalogue/page-17.html\n",
      "http://books.toscrape.com/catalogue/page-18.html\n",
      "http://books.toscrape.com/catalogue/page-19.html\n",
      "http://books.toscrape.com/catalogue/page-20.html\n",
      "http://books.toscrape.com/catalogue/page-21.html\n",
      "http://books.toscrape.com/catalogue/page-22.html\n",
      "http://books.toscrape.com/catalogue/page-23.html\n",
      "http://books.toscrape.com/catalogue/page-24.html\n",
      "http://books.toscrape.com/catalogue/page-25.html\n",
      "http://books.toscrape.com/catalogue/page-26.html\n",
      "http://books.toscrape.com/catalogue/page-27.html\n",
      "http://books.toscrape.com/catalogue/page-28.html\n",
      "http://books.toscrape.com/catalogue/page-29.html\n",
      "http://books.toscrape.com/catalogue/page-30.html\n",
      "http://books.toscrape.com/catalogue/page-31.html\n",
      "http://books.toscrape.com/catalogue/page-32.html\n",
      "http://books.toscrape.com/catalogue/page-33.html\n",
      "http://books.toscrape.com/catalogue/page-34.html\n",
      "http://books.toscrape.com/catalogue/page-35.html\n",
      "http://books.toscrape.com/catalogue/page-36.html\n",
      "http://books.toscrape.com/catalogue/page-37.html\n",
      "http://books.toscrape.com/catalogue/page-38.html\n",
      "http://books.toscrape.com/catalogue/page-39.html\n",
      "http://books.toscrape.com/catalogue/page-40.html\n",
      "http://books.toscrape.com/catalogue/page-41.html\n",
      "http://books.toscrape.com/catalogue/page-42.html\n",
      "http://books.toscrape.com/catalogue/page-43.html\n",
      "http://books.toscrape.com/catalogue/page-44.html\n",
      "http://books.toscrape.com/catalogue/page-45.html\n",
      "http://books.toscrape.com/catalogue/page-46.html\n",
      "http://books.toscrape.com/catalogue/page-47.html\n",
      "http://books.toscrape.com/catalogue/page-48.html\n",
      "http://books.toscrape.com/catalogue/page-49.html\n",
      "http://books.toscrape.com/catalogue/page-50.html\n"
     ]
    }
   ],
   "source": [
    "for page_num in range(1, 51):                                               # Looping through pages from 1 to 50\n",
    "    page_url = f'http://books.toscrape.com/catalogue/page-{page_num}.html'  # Generating the URL for each page\n",
    "    print(page_url)                                                         # Printing and viewing the generated page URL\n"
   ]
  },
  {
   "cell_type": "markdown",
   "metadata": {
    "id": "__LffyJorVl-"
   },
   "source": [
    "For collects book details from a website consisting of 50 Webpages, we will use two links:\n",
    "* `primary_url`: A starting link used to build complete book URLs.\n",
    "* `page_url`: A link to specify the directory of multiple webpages.\n",
    "\n",
    "To extract data from 50 webpages, we will:\n",
    "* First iterate through page numbers from 1 to 50.\n",
    "* Construct the URL for each page on the website.\n",
    "* Send a request to the page URL to get its content.\n",
    "* Parsing the HTML content using BeautifulSoup.\n",
    "* Find all elements representing individual books on the page.\n",
    "* For each book, extracts its title, rating, price, and URL.\n",
    "* Constructs the complete book URL by combining the primary URL with the book's specific URL.\n",
    "* Gathers all these details into a list called `books_50_data`.\n"
   ]
  },
  {
   "cell_type": "code",
   "execution_count": 13,
   "metadata": {
    "id": "mD2PCGT1_6px"
   },
   "outputs": [],
   "source": [
    "primary_url = \"http://books.toscrape.com/\"                                  # Link to concatenate later\n",
    "books_50_data = []                                                          # List to store book details from multiple pages\n",
    "\n",
    "for page_num in range(1, 51):                                               # Looping through page numbers from 1 to 50\n",
    "    page_url = f'http://books.toscrape.com/catalogue/page-{page_num}.html'  # Generating the URL for each page\n",
    "    response = requests.get(page_url)                                       # Sending a request to the page URL\n",
    "    soup_page = bs(response.text, \"html.parser\")                            # Creating a BeautifulSoup object for HTML parsing\n",
    "    books = soup_page.find_all('article', class_='product_pod')             # Finding all book elements on the page\n",
    "\n",
    "    for book in books:                                                      # Iterating through each book element\n",
    "        title = book.find('a', title=True)['title']                         # Extracting the title of the book\n",
    "        rating = book.find('p', class_='star-rating')['class'][1]           # Extracting the rating of the book\n",
    "        price = book.find('p', class_='price_color').text.strip().strip('Â')  # Extracting and cleaning the price\n",
    "        book_url = book.find('a')['href']                                   # Extracting the URL for the book\n",
    "        link = primary_url + book_url                                       # Creating the complete URL for the book\n",
    "\n",
    "        books_50_data.append([title, rating, price, link])                  # Appending book details to the list\n"
   ]
  },
  {
   "cell_type": "markdown",
   "metadata": {
    "id": "S18PIBtQsVwd"
   },
   "source": [
    "Creating a DataFrame using `Pandas`.\n"
   ]
  },
  {
   "cell_type": "code",
   "execution_count": 14,
   "metadata": {
    "colab": {
     "base_uri": "https://localhost:8080/",
     "height": 424
    },
    "id": "Dr3YgoiwA5sl",
    "outputId": "708ce7ba-7801-40f1-b6ce-5b3146048b47"
   },
   "outputs": [
    {
     "data": {
      "text/html": [
       "<div>\n",
       "<style scoped>\n",
       "    .dataframe tbody tr th:only-of-type {\n",
       "        vertical-align: middle;\n",
       "    }\n",
       "\n",
       "    .dataframe tbody tr th {\n",
       "        vertical-align: top;\n",
       "    }\n",
       "\n",
       "    .dataframe thead th {\n",
       "        text-align: right;\n",
       "    }\n",
       "</style>\n",
       "<table border=\"1\" class=\"dataframe\">\n",
       "  <thead>\n",
       "    <tr style=\"text-align: right;\">\n",
       "      <th></th>\n",
       "      <th>title</th>\n",
       "      <th>rating</th>\n",
       "      <th>price</th>\n",
       "      <th>link</th>\n",
       "    </tr>\n",
       "  </thead>\n",
       "  <tbody>\n",
       "    <tr>\n",
       "      <th>0</th>\n",
       "      <td>A Light in the Attic</td>\n",
       "      <td>Three</td>\n",
       "      <td>£51.77</td>\n",
       "      <td>http://books.toscrape.com/a-light-in-the-attic...</td>\n",
       "    </tr>\n",
       "    <tr>\n",
       "      <th>1</th>\n",
       "      <td>Tipping the Velvet</td>\n",
       "      <td>One</td>\n",
       "      <td>£53.74</td>\n",
       "      <td>http://books.toscrape.com/tipping-the-velvet_9...</td>\n",
       "    </tr>\n",
       "    <tr>\n",
       "      <th>2</th>\n",
       "      <td>Soumission</td>\n",
       "      <td>One</td>\n",
       "      <td>£50.10</td>\n",
       "      <td>http://books.toscrape.com/soumission_998/index...</td>\n",
       "    </tr>\n",
       "    <tr>\n",
       "      <th>3</th>\n",
       "      <td>Sharp Objects</td>\n",
       "      <td>Four</td>\n",
       "      <td>£47.82</td>\n",
       "      <td>http://books.toscrape.com/sharp-objects_997/in...</td>\n",
       "    </tr>\n",
       "    <tr>\n",
       "      <th>4</th>\n",
       "      <td>Sapiens: A Brief History of Humankind</td>\n",
       "      <td>Five</td>\n",
       "      <td>£54.23</td>\n",
       "      <td>http://books.toscrape.com/sapiens-a-brief-hist...</td>\n",
       "    </tr>\n",
       "    <tr>\n",
       "      <th>...</th>\n",
       "      <td>...</td>\n",
       "      <td>...</td>\n",
       "      <td>...</td>\n",
       "      <td>...</td>\n",
       "    </tr>\n",
       "    <tr>\n",
       "      <th>995</th>\n",
       "      <td>Alice in Wonderland (Alice's Adventures in Won...</td>\n",
       "      <td>One</td>\n",
       "      <td>£55.53</td>\n",
       "      <td>http://books.toscrape.com/alice-in-wonderland-...</td>\n",
       "    </tr>\n",
       "    <tr>\n",
       "      <th>996</th>\n",
       "      <td>Ajin: Demi-Human, Volume 1 (Ajin: Demi-Human #1)</td>\n",
       "      <td>Four</td>\n",
       "      <td>£57.06</td>\n",
       "      <td>http://books.toscrape.com/ajin-demi-human-volu...</td>\n",
       "    </tr>\n",
       "    <tr>\n",
       "      <th>997</th>\n",
       "      <td>A Spy's Devotion (The Regency Spies of London #1)</td>\n",
       "      <td>Five</td>\n",
       "      <td>£16.97</td>\n",
       "      <td>http://books.toscrape.com/a-spys-devotion-the-...</td>\n",
       "    </tr>\n",
       "    <tr>\n",
       "      <th>998</th>\n",
       "      <td>1st to Die (Women's Murder Club #1)</td>\n",
       "      <td>One</td>\n",
       "      <td>£53.98</td>\n",
       "      <td>http://books.toscrape.com/1st-to-die-womens-mu...</td>\n",
       "    </tr>\n",
       "    <tr>\n",
       "      <th>999</th>\n",
       "      <td>1,000 Places to See Before You Die</td>\n",
       "      <td>Five</td>\n",
       "      <td>£26.08</td>\n",
       "      <td>http://books.toscrape.com/1000-places-to-see-b...</td>\n",
       "    </tr>\n",
       "  </tbody>\n",
       "</table>\n",
       "<p>1000 rows × 4 columns</p>\n",
       "</div>"
      ],
      "text/plain": [
       "                                                 title rating   price  \\\n",
       "0                                 A Light in the Attic  Three  £51.77   \n",
       "1                                   Tipping the Velvet    One  £53.74   \n",
       "2                                           Soumission    One  £50.10   \n",
       "3                                        Sharp Objects   Four  £47.82   \n",
       "4                Sapiens: A Brief History of Humankind   Five  £54.23   \n",
       "..                                                 ...    ...     ...   \n",
       "995  Alice in Wonderland (Alice's Adventures in Won...    One  £55.53   \n",
       "996   Ajin: Demi-Human, Volume 1 (Ajin: Demi-Human #1)   Four  £57.06   \n",
       "997  A Spy's Devotion (The Regency Spies of London #1)   Five  £16.97   \n",
       "998                1st to Die (Women's Murder Club #1)    One  £53.98   \n",
       "999                 1,000 Places to See Before You Die   Five  £26.08   \n",
       "\n",
       "                                                  link  \n",
       "0    http://books.toscrape.com/a-light-in-the-attic...  \n",
       "1    http://books.toscrape.com/tipping-the-velvet_9...  \n",
       "2    http://books.toscrape.com/soumission_998/index...  \n",
       "3    http://books.toscrape.com/sharp-objects_997/in...  \n",
       "4    http://books.toscrape.com/sapiens-a-brief-hist...  \n",
       "..                                                 ...  \n",
       "995  http://books.toscrape.com/alice-in-wonderland-...  \n",
       "996  http://books.toscrape.com/ajin-demi-human-volu...  \n",
       "997  http://books.toscrape.com/a-spys-devotion-the-...  \n",
       "998  http://books.toscrape.com/1st-to-die-womens-mu...  \n",
       "999  http://books.toscrape.com/1000-places-to-see-b...  \n",
       "\n",
       "[1000 rows x 4 columns]"
      ]
     },
     "execution_count": 14,
     "metadata": {},
     "output_type": "execute_result"
    }
   ],
   "source": [
    "page_50 = pd.DataFrame(books_50_data, columns=[\"title\",\"rating\",\"price\",\"link\"])    # Creating a DataFrame from books_50_data\n",
    "page_50"
   ]
  },
  {
   "cell_type": "markdown",
   "metadata": {
    "id": "Is3qmsMOkGV2"
   },
   "source": [
    "##**Export the Data**"
   ]
  },
  {
   "cell_type": "markdown",
   "metadata": {
    "id": "Cmrgrz9ksfAc"
   },
   "source": [
    "Saving the final data to `books_scraped.csv` file in local machine."
   ]
  },
  {
   "cell_type": "code",
   "execution_count": 15,
   "metadata": {
    "colab": {
     "base_uri": "https://localhost:8080/"
    },
    "id": "pJ5T7FEpkLc-",
    "outputId": "fc5dd175-8a59-40c4-899e-1a0a09974c88"
   },
   "outputs": [
    {
     "name": "stdout",
     "output_type": "stream",
     "text": [
      "Data saved to .csv\n"
     ]
    }
   ],
   "source": [
    "page_50.to_csv(\"books_scraped.csv\", index = False)  # Saving the DataFrame to a CSV file without including the index\n",
    "print(\"Data saved to .csv\")                         # Printing a message confirming the data has been saved"
   ]
  },
  {
   "cell_type": "code",
   "execution_count": null,
   "metadata": {},
   "outputs": [],
   "source": []
  }
 ],
 "metadata": {
  "colab": {
   "provenance": []
  },
  "kernelspec": {
   "display_name": "Python 3 (ipykernel)",
   "language": "python",
   "name": "python3"
  },
  "language_info": {
   "codemirror_mode": {
    "name": "ipython",
    "version": 3
   },
   "file_extension": ".py",
   "mimetype": "text/x-python",
   "name": "python",
   "nbconvert_exporter": "python",
   "pygments_lexer": "ipython3",
   "version": "3.9.16"
  }
 },
 "nbformat": 4,
 "nbformat_minor": 1
}
