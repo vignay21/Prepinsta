{
 "cells": [
  {
   "cell_type": "markdown",
   "metadata": {
    "id": "3ihqbWUlG06N"
   },
   "source": [
    "#**Week-5 Assignment**\n",
    "##**SQL Murder Mystery**\n",
    "\n",
    "---\n",
    "\n",
    "There's been a `Murder` in `SQL City`! The `SQL Murder Mystery` is designed to be both a self-directed lesson to learn SQL concepts and commands and a fun game for experienced SQL users to solve an intriguing crime.<br>\n",
    "\n",
    "A crime has taken place and the detective needs our help. The detective gave us the crime scene report, but we somehow lost it. We vaguely remember that the crime was a murder that occurred sometime on `Jan.15, 2018`, and that it took place in `SQL City`.\n",
    "\n",
    "---"
   ]
  },
  {
   "cell_type": "markdown",
   "metadata": {
    "id": "mTkW6Ub-GXbI"
   },
   "source": [
    "## **Importing Libraries & DataBase**"
   ]
  },
  {
   "cell_type": "markdown",
   "metadata": {
    "id": "CTKNT1DHGNjf"
   },
   "source": [
    "First we will be importing multiple libraries:\n",
    "* `import pandas as pd`: Imports the pandas library and allows it to be used with the alias `pd`.\n",
    "* `import sqlite3 as sql`: Imports the sqlite3 library and allows it to be used with the alias `sql`.\n",
    "* `import requests`: Imports the requests library, which is used for making HTTP requests."
   ]
  },
  {
   "cell_type": "code",
   "execution_count": 1,
   "metadata": {
    "id": "bTipc_e5GD_6"
   },
   "outputs": [],
   "source": [
    "import pandas as pd\n",
    "import sqlite3 as sql\n",
    "import requests\n",
    "pd.set_option('display.max_colwidth', None)"
   ]
  },
  {
   "cell_type": "markdown",
   "metadata": {
    "id": "rMHlmyk8Im0X"
   },
   "source": [
    "In order to access the `sql-murder-mystery.db` , I have uploaded it to Github repository.\n",
    "* [Raw File](https://raw.githubusercontent.com/ArijitDhali/PrepInsta-DA-Week-5/main/sql-murder-mystery.db): Sets the URL where the `sql-murder-mystery.db` SQL database file is hosted on GitHub."
   ]
  },
  {
   "cell_type": "code",
   "execution_count": 2,
   "metadata": {
    "id": "DDZRrvsTYFn5"
   },
   "outputs": [],
   "source": [
    "url = 'https://github.com/vignay21/Prepinsta/raw/main/PrepInsta-Week5/Murder%20Mystery/sql-murder-mystery.db'"
   ]
  },
  {
   "cell_type": "markdown",
   "metadata": {
    "id": "HUNlvlmAF85I"
   },
   "source": [
    "**Downloading the File**\n",
    "- `r = requests.get(url, allow_redirects=True)`: Fetches the content from the specified URL (`url`) using the `requests.get()` method. The `allow_redirects=True` parameter allows following redirections, if any.\n",
    "- `open('sql-murder-mystery.db', 'wb').write(r.content)`: Writes the content (`r.content`) fetched from the URL into a file named `sql-murder-mystery.db` in binary write mode. This effectively downloads the database file from GitHub and saves it locally in the current working directory of the Python script.\n",
    "\n",
    "**Connecting to the Database**\n",
    "- `con = sql.connect('sql-murder-mystery.db')`: Establishes a connection to the SQLite database file (`sql-murder-mystery.db`) using the `sql.connect()` method from the `sqlite3` library. Assumes that the file has been successfully downloaded and resides in the same directory where this Python script is executed. The `con` variable holds the connection object to interact with the SQLite database.\n"
   ]
  },
  {
   "cell_type": "code",
   "execution_count": 3,
   "metadata": {
    "id": "7jQeTf1CDS8_"
   },
   "outputs": [],
   "source": [
    "r = requests.get(url, allow_redirects=True)\n",
    "open('sql-murder-mystery.db', 'wb').write(r.content)\n",
    "con = sql.connect('sql-murder-mystery.db')                # connect to the downloaded file"
   ]
  },
  {
   "cell_type": "markdown",
   "metadata": {
    "id": "nvgN_hVNaNny"
   },
   "source": [
    "In order to check the contents of the database we will use the particular command."
   ]
  },
  {
   "cell_type": "code",
   "execution_count": 4,
   "metadata": {
    "colab": {
     "base_uri": "https://localhost:8080/",
     "height": 332
    },
    "id": "wzHvrZ9EX-y_",
    "outputId": "ca0a0fd1-9fea-4e88-d72e-84edc0519ece"
   },
   "outputs": [
    {
     "data": {
      "text/html": [
       "<div>\n",
       "<style scoped>\n",
       "    .dataframe tbody tr th:only-of-type {\n",
       "        vertical-align: middle;\n",
       "    }\n",
       "\n",
       "    .dataframe tbody tr th {\n",
       "        vertical-align: top;\n",
       "    }\n",
       "\n",
       "    .dataframe thead th {\n",
       "        text-align: right;\n",
       "    }\n",
       "</style>\n",
       "<table border=\"1\" class=\"dataframe\">\n",
       "  <thead>\n",
       "    <tr style=\"text-align: right;\">\n",
       "      <th></th>\n",
       "      <th>name</th>\n",
       "    </tr>\n",
       "  </thead>\n",
       "  <tbody>\n",
       "    <tr>\n",
       "      <th>0</th>\n",
       "      <td>crime_scene_report</td>\n",
       "    </tr>\n",
       "    <tr>\n",
       "      <th>1</th>\n",
       "      <td>drivers_license</td>\n",
       "    </tr>\n",
       "    <tr>\n",
       "      <th>2</th>\n",
       "      <td>person</td>\n",
       "    </tr>\n",
       "    <tr>\n",
       "      <th>3</th>\n",
       "      <td>facebook_event_checkin</td>\n",
       "    </tr>\n",
       "    <tr>\n",
       "      <th>4</th>\n",
       "      <td>interview</td>\n",
       "    </tr>\n",
       "    <tr>\n",
       "      <th>5</th>\n",
       "      <td>get_fit_now_member</td>\n",
       "    </tr>\n",
       "    <tr>\n",
       "      <th>6</th>\n",
       "      <td>get_fit_now_check_in</td>\n",
       "    </tr>\n",
       "    <tr>\n",
       "      <th>7</th>\n",
       "      <td>income</td>\n",
       "    </tr>\n",
       "    <tr>\n",
       "      <th>8</th>\n",
       "      <td>solution</td>\n",
       "    </tr>\n",
       "  </tbody>\n",
       "</table>\n",
       "</div>"
      ],
      "text/plain": [
       "                     name\n",
       "0      crime_scene_report\n",
       "1         drivers_license\n",
       "2                  person\n",
       "3  facebook_event_checkin\n",
       "4               interview\n",
       "5      get_fit_now_member\n",
       "6    get_fit_now_check_in\n",
       "7                  income\n",
       "8                solution"
      ]
     },
     "execution_count": 4,
     "metadata": {},
     "output_type": "execute_result"
    }
   ],
   "source": [
    "data = '''\n",
    "SELECT name\n",
    "FROM sqlite_master\n",
    "WHERE type='table';\n",
    "'''\n",
    "pd.read_sql_query(data, con)"
   ]
  },
  {
   "cell_type": "markdown",
   "metadata": {
    "id": "0i1_KgKXYZCU"
   },
   "source": [
    "##**Checking & Viewing Database**"
   ]
  },
  {
   "cell_type": "markdown",
   "metadata": {
    "id": "o1nD9PVKcROo"
   },
   "source": [
    "Before we process or manipulate with the tables in the database, we need to get familiarized with the datasets present in the database. <br> View their `Table` names and `Column` names."
   ]
  },
  {
   "cell_type": "markdown",
   "metadata": {
    "id": "LJL0exUsYs4O"
   },
   "source": [
    "### **Table 1:** crime_scene_report"
   ]
  },
  {
   "cell_type": "markdown",
   "metadata": {
    "id": "XrSIQFe8acqU"
   },
   "source": [
    "Viewing the `crime_scene_report` table.\n",
    "<br>Columns:\n",
    "* `date`\n",
    "* `type`\n",
    "* `description`\n",
    "* `city`"
   ]
  },
  {
   "cell_type": "code",
   "execution_count": 5,
   "metadata": {
    "colab": {
     "base_uri": "https://localhost:8080/",
     "height": 206
    },
    "id": "ZOyzpqemY1IE",
    "outputId": "c916b415-3590-483d-8436-7f745c62d1a8"
   },
   "outputs": [
    {
     "data": {
      "text/html": [
       "<div>\n",
       "<style scoped>\n",
       "    .dataframe tbody tr th:only-of-type {\n",
       "        vertical-align: middle;\n",
       "    }\n",
       "\n",
       "    .dataframe tbody tr th {\n",
       "        vertical-align: top;\n",
       "    }\n",
       "\n",
       "    .dataframe thead th {\n",
       "        text-align: right;\n",
       "    }\n",
       "</style>\n",
       "<table border=\"1\" class=\"dataframe\">\n",
       "  <thead>\n",
       "    <tr style=\"text-align: right;\">\n",
       "      <th></th>\n",
       "      <th>date</th>\n",
       "      <th>type</th>\n",
       "      <th>description</th>\n",
       "      <th>city</th>\n",
       "    </tr>\n",
       "  </thead>\n",
       "  <tbody>\n",
       "    <tr>\n",
       "      <th>0</th>\n",
       "      <td>20180115</td>\n",
       "      <td>robbery</td>\n",
       "      <td>A Man Dressed as Spider-Man Is on a Robbery Spree</td>\n",
       "      <td>NYC</td>\n",
       "    </tr>\n",
       "    <tr>\n",
       "      <th>1</th>\n",
       "      <td>20180115</td>\n",
       "      <td>murder</td>\n",
       "      <td>Life? Dont talk to me about life.</td>\n",
       "      <td>Albany</td>\n",
       "    </tr>\n",
       "    <tr>\n",
       "      <th>2</th>\n",
       "      <td>20180115</td>\n",
       "      <td>murder</td>\n",
       "      <td>Mama, I killed a man, put a gun against his head...</td>\n",
       "      <td>Reno</td>\n",
       "    </tr>\n",
       "    <tr>\n",
       "      <th>3</th>\n",
       "      <td>20180215</td>\n",
       "      <td>murder</td>\n",
       "      <td>REDACTED REDACTED REDACTED</td>\n",
       "      <td>SQL City</td>\n",
       "    </tr>\n",
       "    <tr>\n",
       "      <th>4</th>\n",
       "      <td>20180215</td>\n",
       "      <td>murder</td>\n",
       "      <td>Someone killed the guard! He took an arrow to the knee!</td>\n",
       "      <td>SQL City</td>\n",
       "    </tr>\n",
       "  </tbody>\n",
       "</table>\n",
       "</div>"
      ],
      "text/plain": [
       "       date     type                                              description  \\\n",
       "0  20180115  robbery        A Man Dressed as Spider-Man Is on a Robbery Spree   \n",
       "1  20180115   murder                        Life? Dont talk to me about life.   \n",
       "2  20180115   murder      Mama, I killed a man, put a gun against his head...   \n",
       "3  20180215   murder                               REDACTED REDACTED REDACTED   \n",
       "4  20180215   murder  Someone killed the guard! He took an arrow to the knee!   \n",
       "\n",
       "       city  \n",
       "0       NYC  \n",
       "1    Albany  \n",
       "2      Reno  \n",
       "3  SQL City  \n",
       "4  SQL City  "
      ]
     },
     "execution_count": 5,
     "metadata": {},
     "output_type": "execute_result"
    }
   ],
   "source": [
    "# Query to view top 5 rows from the data\n",
    "csr = '''\n",
    "SELECT *\n",
    "FROM crime_scene_report\n",
    "LIMIT 5\n",
    "'''\n",
    "pd.read_sql_query(csr, con)"
   ]
  },
  {
   "cell_type": "markdown",
   "metadata": {
    "id": "nZg8y8hqZJjc"
   },
   "source": [
    "### **Table 2:** drivers_license\n"
   ]
  },
  {
   "cell_type": "markdown",
   "metadata": {
    "id": "oSi3_qeSaoMP"
   },
   "source": [
    "Viewing the `drivers_license` table.\n",
    "<br>Columns:\n",
    "* `id`\n",
    "* `age`\n",
    "* `height`\n",
    "* `eye_color`\n",
    "* `hair_color`\n",
    "* `gender`\n",
    "* `plate_number`\n",
    "* `car_make`\n",
    "* `car_model`"
   ]
  },
  {
   "cell_type": "code",
   "execution_count": 6,
   "metadata": {
    "colab": {
     "base_uri": "https://localhost:8080/",
     "height": 206
    },
    "id": "CStrqq06ZJjf",
    "outputId": "75b05943-1761-4d44-de6c-3509ee594ca2"
   },
   "outputs": [
    {
     "data": {
      "text/html": [
       "<div>\n",
       "<style scoped>\n",
       "    .dataframe tbody tr th:only-of-type {\n",
       "        vertical-align: middle;\n",
       "    }\n",
       "\n",
       "    .dataframe tbody tr th {\n",
       "        vertical-align: top;\n",
       "    }\n",
       "\n",
       "    .dataframe thead th {\n",
       "        text-align: right;\n",
       "    }\n",
       "</style>\n",
       "<table border=\"1\" class=\"dataframe\">\n",
       "  <thead>\n",
       "    <tr style=\"text-align: right;\">\n",
       "      <th></th>\n",
       "      <th>id</th>\n",
       "      <th>age</th>\n",
       "      <th>height</th>\n",
       "      <th>eye_color</th>\n",
       "      <th>hair_color</th>\n",
       "      <th>gender</th>\n",
       "      <th>plate_number</th>\n",
       "      <th>car_make</th>\n",
       "      <th>car_model</th>\n",
       "    </tr>\n",
       "  </thead>\n",
       "  <tbody>\n",
       "    <tr>\n",
       "      <th>0</th>\n",
       "      <td>100280</td>\n",
       "      <td>72</td>\n",
       "      <td>57</td>\n",
       "      <td>brown</td>\n",
       "      <td>red</td>\n",
       "      <td>male</td>\n",
       "      <td>P24L4U</td>\n",
       "      <td>Acura</td>\n",
       "      <td>MDX</td>\n",
       "    </tr>\n",
       "    <tr>\n",
       "      <th>1</th>\n",
       "      <td>100460</td>\n",
       "      <td>63</td>\n",
       "      <td>72</td>\n",
       "      <td>brown</td>\n",
       "      <td>brown</td>\n",
       "      <td>female</td>\n",
       "      <td>XF02T6</td>\n",
       "      <td>Cadillac</td>\n",
       "      <td>SRX</td>\n",
       "    </tr>\n",
       "    <tr>\n",
       "      <th>2</th>\n",
       "      <td>101029</td>\n",
       "      <td>62</td>\n",
       "      <td>74</td>\n",
       "      <td>green</td>\n",
       "      <td>green</td>\n",
       "      <td>female</td>\n",
       "      <td>VKY5KR</td>\n",
       "      <td>Scion</td>\n",
       "      <td>xB</td>\n",
       "    </tr>\n",
       "    <tr>\n",
       "      <th>3</th>\n",
       "      <td>101198</td>\n",
       "      <td>43</td>\n",
       "      <td>54</td>\n",
       "      <td>amber</td>\n",
       "      <td>brown</td>\n",
       "      <td>female</td>\n",
       "      <td>Y5NZ08</td>\n",
       "      <td>Nissan</td>\n",
       "      <td>Rogue</td>\n",
       "    </tr>\n",
       "    <tr>\n",
       "      <th>4</th>\n",
       "      <td>101255</td>\n",
       "      <td>18</td>\n",
       "      <td>79</td>\n",
       "      <td>blue</td>\n",
       "      <td>grey</td>\n",
       "      <td>female</td>\n",
       "      <td>5162Z1</td>\n",
       "      <td>Lexus</td>\n",
       "      <td>GS</td>\n",
       "    </tr>\n",
       "  </tbody>\n",
       "</table>\n",
       "</div>"
      ],
      "text/plain": [
       "       id  age  height eye_color hair_color  gender plate_number  car_make  \\\n",
       "0  100280   72      57     brown        red    male       P24L4U     Acura   \n",
       "1  100460   63      72     brown      brown  female       XF02T6  Cadillac   \n",
       "2  101029   62      74     green      green  female       VKY5KR     Scion   \n",
       "3  101198   43      54     amber      brown  female       Y5NZ08    Nissan   \n",
       "4  101255   18      79      blue       grey  female       5162Z1     Lexus   \n",
       "\n",
       "  car_model  \n",
       "0       MDX  \n",
       "1       SRX  \n",
       "2        xB  \n",
       "3     Rogue  \n",
       "4        GS  "
      ]
     },
     "execution_count": 6,
     "metadata": {},
     "output_type": "execute_result"
    }
   ],
   "source": [
    "# Query to view top 5 rows from the data\n",
    "dli = '''\n",
    "SELECT *\n",
    "FROM drivers_license\n",
    "LIMIT 5\n",
    "'''\n",
    "pd.read_sql_query(dli, con)"
   ]
  },
  {
   "cell_type": "markdown",
   "metadata": {
    "id": "4kJm4ZELZJzy"
   },
   "source": [
    "### **Table 3:** person"
   ]
  },
  {
   "cell_type": "markdown",
   "metadata": {
    "id": "BvoFT4Iqaupd"
   },
   "source": [
    "Viewing the `person` table.\n",
    "<br>Columns:\n",
    "* `id`\n",
    "* `name`\n",
    "* `license_id`\n",
    "* `address_number`\n",
    "* `address_street_name`\n",
    "* `ssn`\n"
   ]
  },
  {
   "cell_type": "code",
   "execution_count": 7,
   "metadata": {
    "colab": {
     "base_uri": "https://localhost:8080/",
     "height": 206
    },
    "id": "osaLMiJ2ZJz0",
    "outputId": "d36ef731-2974-486f-a453-6c52fd00b670"
   },
   "outputs": [
    {
     "data": {
      "text/html": [
       "<div>\n",
       "<style scoped>\n",
       "    .dataframe tbody tr th:only-of-type {\n",
       "        vertical-align: middle;\n",
       "    }\n",
       "\n",
       "    .dataframe tbody tr th {\n",
       "        vertical-align: top;\n",
       "    }\n",
       "\n",
       "    .dataframe thead th {\n",
       "        text-align: right;\n",
       "    }\n",
       "</style>\n",
       "<table border=\"1\" class=\"dataframe\">\n",
       "  <thead>\n",
       "    <tr style=\"text-align: right;\">\n",
       "      <th></th>\n",
       "      <th>id</th>\n",
       "      <th>name</th>\n",
       "      <th>license_id</th>\n",
       "      <th>address_number</th>\n",
       "      <th>address_street_name</th>\n",
       "      <th>ssn</th>\n",
       "    </tr>\n",
       "  </thead>\n",
       "  <tbody>\n",
       "    <tr>\n",
       "      <th>0</th>\n",
       "      <td>10000</td>\n",
       "      <td>Christoper Peteuil</td>\n",
       "      <td>993845</td>\n",
       "      <td>624</td>\n",
       "      <td>Bankhall Ave</td>\n",
       "      <td>747714076</td>\n",
       "    </tr>\n",
       "    <tr>\n",
       "      <th>1</th>\n",
       "      <td>10007</td>\n",
       "      <td>Kourtney Calderwood</td>\n",
       "      <td>861794</td>\n",
       "      <td>2791</td>\n",
       "      <td>Gustavus Blvd</td>\n",
       "      <td>477972044</td>\n",
       "    </tr>\n",
       "    <tr>\n",
       "      <th>2</th>\n",
       "      <td>10010</td>\n",
       "      <td>Muoi Cary</td>\n",
       "      <td>385336</td>\n",
       "      <td>741</td>\n",
       "      <td>Northwestern Dr</td>\n",
       "      <td>828638512</td>\n",
       "    </tr>\n",
       "    <tr>\n",
       "      <th>3</th>\n",
       "      <td>10016</td>\n",
       "      <td>Era Moselle</td>\n",
       "      <td>431897</td>\n",
       "      <td>1987</td>\n",
       "      <td>Wood Glade St</td>\n",
       "      <td>614621061</td>\n",
       "    </tr>\n",
       "    <tr>\n",
       "      <th>4</th>\n",
       "      <td>10025</td>\n",
       "      <td>Trena Hornby</td>\n",
       "      <td>550890</td>\n",
       "      <td>276</td>\n",
       "      <td>Daws Hill Way</td>\n",
       "      <td>223877684</td>\n",
       "    </tr>\n",
       "  </tbody>\n",
       "</table>\n",
       "</div>"
      ],
      "text/plain": [
       "      id                 name  license_id  address_number address_street_name  \\\n",
       "0  10000   Christoper Peteuil      993845             624        Bankhall Ave   \n",
       "1  10007  Kourtney Calderwood      861794            2791       Gustavus Blvd   \n",
       "2  10010            Muoi Cary      385336             741     Northwestern Dr   \n",
       "3  10016          Era Moselle      431897            1987       Wood Glade St   \n",
       "4  10025         Trena Hornby      550890             276       Daws Hill Way   \n",
       "\n",
       "         ssn  \n",
       "0  747714076  \n",
       "1  477972044  \n",
       "2  828638512  \n",
       "3  614621061  \n",
       "4  223877684  "
      ]
     },
     "execution_count": 7,
     "metadata": {},
     "output_type": "execute_result"
    }
   ],
   "source": [
    "# Query to view top 5 rows from the data\n",
    "per = '''\n",
    "SELECT *\n",
    "FROM person\n",
    "LIMIT 5\n",
    "'''\n",
    "pd.read_sql_query(per, con)"
   ]
  },
  {
   "cell_type": "markdown",
   "metadata": {
    "id": "WYGHMBqDZJ9Z"
   },
   "source": [
    "### **Table 4:** facebook_event_checkin"
   ]
  },
  {
   "cell_type": "markdown",
   "metadata": {
    "id": "0OO15LsSax_9"
   },
   "source": [
    "Viewing the `facebook_event_checkin` table.\n",
    "<br>Columns:\n",
    "* `person_id`\n",
    "* `event_id`\n",
    "* `event_name`\n",
    "* `date`\n"
   ]
  },
  {
   "cell_type": "code",
   "execution_count": 8,
   "metadata": {
    "colab": {
     "base_uri": "https://localhost:8080/",
     "height": 206
    },
    "id": "_OPYz8qgZJ9a",
    "outputId": "865d7033-c1d2-4e5a-9d58-327d271399ee"
   },
   "outputs": [
    {
     "data": {
      "text/html": [
       "<div>\n",
       "<style scoped>\n",
       "    .dataframe tbody tr th:only-of-type {\n",
       "        vertical-align: middle;\n",
       "    }\n",
       "\n",
       "    .dataframe tbody tr th {\n",
       "        vertical-align: top;\n",
       "    }\n",
       "\n",
       "    .dataframe thead th {\n",
       "        text-align: right;\n",
       "    }\n",
       "</style>\n",
       "<table border=\"1\" class=\"dataframe\">\n",
       "  <thead>\n",
       "    <tr style=\"text-align: right;\">\n",
       "      <th></th>\n",
       "      <th>person_id</th>\n",
       "      <th>event_id</th>\n",
       "      <th>event_name</th>\n",
       "      <th>date</th>\n",
       "    </tr>\n",
       "  </thead>\n",
       "  <tbody>\n",
       "    <tr>\n",
       "      <th>0</th>\n",
       "      <td>28508</td>\n",
       "      <td>5880</td>\n",
       "      <td>Nudists are people who wear one-button suits.\\n</td>\n",
       "      <td>20170913</td>\n",
       "    </tr>\n",
       "    <tr>\n",
       "      <th>1</th>\n",
       "      <td>63713</td>\n",
       "      <td>3865</td>\n",
       "      <td>but that's because it's the best book on anything for the layman.\\n</td>\n",
       "      <td>20171009</td>\n",
       "    </tr>\n",
       "    <tr>\n",
       "      <th>2</th>\n",
       "      <td>63713</td>\n",
       "      <td>3999</td>\n",
       "      <td>If Murphy's Law can go wrong, it will.\\n</td>\n",
       "      <td>20170502</td>\n",
       "    </tr>\n",
       "    <tr>\n",
       "      <th>3</th>\n",
       "      <td>63713</td>\n",
       "      <td>6436</td>\n",
       "      <td>Old programmers never die.  They just branch to a new address.\\n</td>\n",
       "      <td>20170926</td>\n",
       "    </tr>\n",
       "    <tr>\n",
       "      <th>4</th>\n",
       "      <td>82998</td>\n",
       "      <td>4470</td>\n",
       "      <td>Help a swallow land at Capistrano.\\n</td>\n",
       "      <td>20171022</td>\n",
       "    </tr>\n",
       "  </tbody>\n",
       "</table>\n",
       "</div>"
      ],
      "text/plain": [
       "   person_id  event_id  \\\n",
       "0      28508      5880   \n",
       "1      63713      3865   \n",
       "2      63713      3999   \n",
       "3      63713      6436   \n",
       "4      82998      4470   \n",
       "\n",
       "                                                            event_name  \\\n",
       "0                      Nudists are people who wear one-button suits.\\n   \n",
       "1  but that's because it's the best book on anything for the layman.\\n   \n",
       "2                             If Murphy's Law can go wrong, it will.\\n   \n",
       "3     Old programmers never die.  They just branch to a new address.\\n   \n",
       "4                                 Help a swallow land at Capistrano.\\n   \n",
       "\n",
       "       date  \n",
       "0  20170913  \n",
       "1  20171009  \n",
       "2  20170502  \n",
       "3  20170926  \n",
       "4  20171022  "
      ]
     },
     "execution_count": 8,
     "metadata": {},
     "output_type": "execute_result"
    }
   ],
   "source": [
    "# Query to view top 5 rows from the data\n",
    "fech = '''\n",
    "SELECT *\n",
    "FROM facebook_event_checkin\n",
    "LIMIT 5\n",
    "'''\n",
    "pd.read_sql_query(fech, con)"
   ]
  },
  {
   "cell_type": "markdown",
   "metadata": {
    "id": "N6QyNM4_ZKFL"
   },
   "source": [
    "### **Table 5:** interview"
   ]
  },
  {
   "cell_type": "markdown",
   "metadata": {
    "id": "_Wm_zKAja63I"
   },
   "source": [
    "Viewing the `interview` table.\n",
    "<br>Columns:\n",
    "* `person_id`\n",
    "* `transcript`\n"
   ]
  },
  {
   "cell_type": "code",
   "execution_count": 9,
   "metadata": {
    "colab": {
     "base_uri": "https://localhost:8080/",
     "height": 206
    },
    "id": "uV7REMxAZKFN",
    "outputId": "28db210f-9879-4700-ca9f-b73596693efa"
   },
   "outputs": [
    {
     "data": {
      "text/html": [
       "<div>\n",
       "<style scoped>\n",
       "    .dataframe tbody tr th:only-of-type {\n",
       "        vertical-align: middle;\n",
       "    }\n",
       "\n",
       "    .dataframe tbody tr th {\n",
       "        vertical-align: top;\n",
       "    }\n",
       "\n",
       "    .dataframe thead th {\n",
       "        text-align: right;\n",
       "    }\n",
       "</style>\n",
       "<table border=\"1\" class=\"dataframe\">\n",
       "  <thead>\n",
       "    <tr style=\"text-align: right;\">\n",
       "      <th></th>\n",
       "      <th>person_id</th>\n",
       "      <th>transcript</th>\n",
       "    </tr>\n",
       "  </thead>\n",
       "  <tbody>\n",
       "    <tr>\n",
       "      <th>0</th>\n",
       "      <td>28508</td>\n",
       "      <td>‘I deny it!’ said the March Hare.\\n</td>\n",
       "    </tr>\n",
       "    <tr>\n",
       "      <th>1</th>\n",
       "      <td>63713</td>\n",
       "      <td>\\n</td>\n",
       "    </tr>\n",
       "    <tr>\n",
       "      <th>2</th>\n",
       "      <td>86208</td>\n",
       "      <td>way, and the whole party swam to the shore.\\n</td>\n",
       "    </tr>\n",
       "    <tr>\n",
       "      <th>3</th>\n",
       "      <td>35267</td>\n",
       "      <td>lessons in here? Why, there’s hardly room for YOU, and no room at all\\n</td>\n",
       "    </tr>\n",
       "    <tr>\n",
       "      <th>4</th>\n",
       "      <td>33856</td>\n",
       "      <td>\\n</td>\n",
       "    </tr>\n",
       "  </tbody>\n",
       "</table>\n",
       "</div>"
      ],
      "text/plain": [
       "   person_id  \\\n",
       "0      28508   \n",
       "1      63713   \n",
       "2      86208   \n",
       "3      35267   \n",
       "4      33856   \n",
       "\n",
       "                                                                transcript  \n",
       "0                                      ‘I deny it!’ said the March Hare.\\n  \n",
       "1                                                                       \\n  \n",
       "2                            way, and the whole party swam to the shore.\\n  \n",
       "3  lessons in here? Why, there’s hardly room for YOU, and no room at all\\n  \n",
       "4                                                                       \\n  "
      ]
     },
     "execution_count": 9,
     "metadata": {},
     "output_type": "execute_result"
    }
   ],
   "source": [
    "# Query to view top 5 rows from the data\n",
    "inte = '''\n",
    "SELECT *\n",
    "FROM interview\n",
    "LIMIT 5\n",
    "'''\n",
    "pd.read_sql_query(inte, con)"
   ]
  },
  {
   "cell_type": "markdown",
   "metadata": {
    "id": "2rAtQP9_ZKMi"
   },
   "source": [
    "### **Table 6:** get_fit_now_member"
   ]
  },
  {
   "cell_type": "markdown",
   "metadata": {
    "id": "qV26fhUubK74"
   },
   "source": [
    "Viewing the `get_fit_now_member` table.\n",
    "<br>Columns:\n",
    "* `id`\n",
    "* `person_id`\n",
    "* `name`\n",
    "* `membership_start_date`\n",
    "* `membership_status`\n"
   ]
  },
  {
   "cell_type": "code",
   "execution_count": 10,
   "metadata": {
    "colab": {
     "base_uri": "https://localhost:8080/",
     "height": 206
    },
    "id": "GsHiNBmeZKMk",
    "outputId": "d0295170-7b66-479f-e205-72eacb5ae3e6"
   },
   "outputs": [
    {
     "data": {
      "text/html": [
       "<div>\n",
       "<style scoped>\n",
       "    .dataframe tbody tr th:only-of-type {\n",
       "        vertical-align: middle;\n",
       "    }\n",
       "\n",
       "    .dataframe tbody tr th {\n",
       "        vertical-align: top;\n",
       "    }\n",
       "\n",
       "    .dataframe thead th {\n",
       "        text-align: right;\n",
       "    }\n",
       "</style>\n",
       "<table border=\"1\" class=\"dataframe\">\n",
       "  <thead>\n",
       "    <tr style=\"text-align: right;\">\n",
       "      <th></th>\n",
       "      <th>id</th>\n",
       "      <th>person_id</th>\n",
       "      <th>name</th>\n",
       "      <th>membership_start_date</th>\n",
       "      <th>membership_status</th>\n",
       "    </tr>\n",
       "  </thead>\n",
       "  <tbody>\n",
       "    <tr>\n",
       "      <th>0</th>\n",
       "      <td>NL318</td>\n",
       "      <td>65076</td>\n",
       "      <td>Everette Koepke</td>\n",
       "      <td>20170926</td>\n",
       "      <td>gold</td>\n",
       "    </tr>\n",
       "    <tr>\n",
       "      <th>1</th>\n",
       "      <td>AOE21</td>\n",
       "      <td>39426</td>\n",
       "      <td>Noe Locascio</td>\n",
       "      <td>20171005</td>\n",
       "      <td>regular</td>\n",
       "    </tr>\n",
       "    <tr>\n",
       "      <th>2</th>\n",
       "      <td>2PN28</td>\n",
       "      <td>63823</td>\n",
       "      <td>Jeromy Heitschmidt</td>\n",
       "      <td>20180215</td>\n",
       "      <td>silver</td>\n",
       "    </tr>\n",
       "    <tr>\n",
       "      <th>3</th>\n",
       "      <td>0YJ24</td>\n",
       "      <td>80651</td>\n",
       "      <td>Waneta Wellard</td>\n",
       "      <td>20171206</td>\n",
       "      <td>gold</td>\n",
       "    </tr>\n",
       "    <tr>\n",
       "      <th>4</th>\n",
       "      <td>3A08L</td>\n",
       "      <td>32858</td>\n",
       "      <td>Mei Bianchin</td>\n",
       "      <td>20170401</td>\n",
       "      <td>silver</td>\n",
       "    </tr>\n",
       "  </tbody>\n",
       "</table>\n",
       "</div>"
      ],
      "text/plain": [
       "      id  person_id                name  membership_start_date  \\\n",
       "0  NL318      65076     Everette Koepke               20170926   \n",
       "1  AOE21      39426        Noe Locascio               20171005   \n",
       "2  2PN28      63823  Jeromy Heitschmidt               20180215   \n",
       "3  0YJ24      80651      Waneta Wellard               20171206   \n",
       "4  3A08L      32858        Mei Bianchin               20170401   \n",
       "\n",
       "  membership_status  \n",
       "0              gold  \n",
       "1           regular  \n",
       "2            silver  \n",
       "3              gold  \n",
       "4            silver  "
      ]
     },
     "execution_count": 10,
     "metadata": {},
     "output_type": "execute_result"
    }
   ],
   "source": [
    "# Query to view top 5 rows from the data\n",
    "gfnm = '''\n",
    "SELECT *\n",
    "FROM get_fit_now_member\n",
    "LIMIT 5\n",
    "'''\n",
    "pd.read_sql_query(gfnm, con)"
   ]
  },
  {
   "cell_type": "markdown",
   "metadata": {
    "id": "d03LhIKCfWoC"
   },
   "source": [
    "### **Table 7:** get_fit_now_check_in"
   ]
  },
  {
   "cell_type": "markdown",
   "metadata": {
    "id": "ArsL8dzzbRPn"
   },
   "source": [
    "Viewing the `get_fit_now_check_in` table.\n",
    "<br>Columns:\n",
    "* `membership_id`\n",
    "* `check_in_date`\n",
    "* `chech_in_time`\n",
    "* `chech_out_time`"
   ]
  },
  {
   "cell_type": "code",
   "execution_count": 11,
   "metadata": {
    "colab": {
     "base_uri": "https://localhost:8080/",
     "height": 206
    },
    "id": "gX8xDlxkfWoI",
    "outputId": "e28fec7e-d44d-4c9d-abb3-7b62ae6c6393"
   },
   "outputs": [
    {
     "data": {
      "text/html": [
       "<div>\n",
       "<style scoped>\n",
       "    .dataframe tbody tr th:only-of-type {\n",
       "        vertical-align: middle;\n",
       "    }\n",
       "\n",
       "    .dataframe tbody tr th {\n",
       "        vertical-align: top;\n",
       "    }\n",
       "\n",
       "    .dataframe thead th {\n",
       "        text-align: right;\n",
       "    }\n",
       "</style>\n",
       "<table border=\"1\" class=\"dataframe\">\n",
       "  <thead>\n",
       "    <tr style=\"text-align: right;\">\n",
       "      <th></th>\n",
       "      <th>membership_id</th>\n",
       "      <th>check_in_date</th>\n",
       "      <th>check_in_time</th>\n",
       "      <th>check_out_time</th>\n",
       "    </tr>\n",
       "  </thead>\n",
       "  <tbody>\n",
       "    <tr>\n",
       "      <th>0</th>\n",
       "      <td>NL318</td>\n",
       "      <td>20180212</td>\n",
       "      <td>329</td>\n",
       "      <td>365</td>\n",
       "    </tr>\n",
       "    <tr>\n",
       "      <th>1</th>\n",
       "      <td>NL318</td>\n",
       "      <td>20170811</td>\n",
       "      <td>469</td>\n",
       "      <td>920</td>\n",
       "    </tr>\n",
       "    <tr>\n",
       "      <th>2</th>\n",
       "      <td>NL318</td>\n",
       "      <td>20180429</td>\n",
       "      <td>506</td>\n",
       "      <td>554</td>\n",
       "    </tr>\n",
       "    <tr>\n",
       "      <th>3</th>\n",
       "      <td>NL318</td>\n",
       "      <td>20180128</td>\n",
       "      <td>124</td>\n",
       "      <td>759</td>\n",
       "    </tr>\n",
       "    <tr>\n",
       "      <th>4</th>\n",
       "      <td>NL318</td>\n",
       "      <td>20171027</td>\n",
       "      <td>418</td>\n",
       "      <td>1019</td>\n",
       "    </tr>\n",
       "  </tbody>\n",
       "</table>\n",
       "</div>"
      ],
      "text/plain": [
       "  membership_id  check_in_date  check_in_time  check_out_time\n",
       "0         NL318       20180212            329             365\n",
       "1         NL318       20170811            469             920\n",
       "2         NL318       20180429            506             554\n",
       "3         NL318       20180128            124             759\n",
       "4         NL318       20171027            418            1019"
      ]
     },
     "execution_count": 11,
     "metadata": {},
     "output_type": "execute_result"
    }
   ],
   "source": [
    "# Query to view top 5 rows from the data\n",
    "gfnci = '''\n",
    "SELECT *\n",
    "FROM get_fit_now_check_in\n",
    "LIMIT 5\n",
    "'''\n",
    "pd.read_sql_query(gfnci, con)"
   ]
  },
  {
   "cell_type": "markdown",
   "metadata": {
    "id": "R2epFiAsfWsp"
   },
   "source": [
    "### **Table 8:** income"
   ]
  },
  {
   "cell_type": "markdown",
   "metadata": {
    "id": "ynMvkz9CbW9V"
   },
   "source": [
    "Viewing the `income` table.\n",
    "<br>Columns:\n",
    "* `ssn`\n",
    "* `annual_income`"
   ]
  },
  {
   "cell_type": "code",
   "execution_count": 12,
   "metadata": {
    "colab": {
     "base_uri": "https://localhost:8080/",
     "height": 206
    },
    "id": "hvffIRCIfWsr",
    "outputId": "514a3f4e-4aee-4edf-aa26-05d38f602b99"
   },
   "outputs": [
    {
     "data": {
      "text/html": [
       "<div>\n",
       "<style scoped>\n",
       "    .dataframe tbody tr th:only-of-type {\n",
       "        vertical-align: middle;\n",
       "    }\n",
       "\n",
       "    .dataframe tbody tr th {\n",
       "        vertical-align: top;\n",
       "    }\n",
       "\n",
       "    .dataframe thead th {\n",
       "        text-align: right;\n",
       "    }\n",
       "</style>\n",
       "<table border=\"1\" class=\"dataframe\">\n",
       "  <thead>\n",
       "    <tr style=\"text-align: right;\">\n",
       "      <th></th>\n",
       "      <th>ssn</th>\n",
       "      <th>annual_income</th>\n",
       "    </tr>\n",
       "  </thead>\n",
       "  <tbody>\n",
       "    <tr>\n",
       "      <th>0</th>\n",
       "      <td>100009868</td>\n",
       "      <td>52200</td>\n",
       "    </tr>\n",
       "    <tr>\n",
       "      <th>1</th>\n",
       "      <td>100169584</td>\n",
       "      <td>64500</td>\n",
       "    </tr>\n",
       "    <tr>\n",
       "      <th>2</th>\n",
       "      <td>100300433</td>\n",
       "      <td>74400</td>\n",
       "    </tr>\n",
       "    <tr>\n",
       "      <th>3</th>\n",
       "      <td>100355733</td>\n",
       "      <td>35900</td>\n",
       "    </tr>\n",
       "    <tr>\n",
       "      <th>4</th>\n",
       "      <td>100366269</td>\n",
       "      <td>73000</td>\n",
       "    </tr>\n",
       "  </tbody>\n",
       "</table>\n",
       "</div>"
      ],
      "text/plain": [
       "         ssn  annual_income\n",
       "0  100009868          52200\n",
       "1  100169584          64500\n",
       "2  100300433          74400\n",
       "3  100355733          35900\n",
       "4  100366269          73000"
      ]
     },
     "execution_count": 12,
     "metadata": {},
     "output_type": "execute_result"
    }
   ],
   "source": [
    "# Query to view top 5 rows from the data\n",
    "inc = '''\n",
    "SELECT *\n",
    "FROM income\n",
    "LIMIT 5\n",
    "'''\n",
    "pd.read_sql_query(inc, con)"
   ]
  },
  {
   "cell_type": "markdown",
   "metadata": {
    "id": "1UMuiw5CfgPk"
   },
   "source": [
    "### **Table 9:** solution"
   ]
  },
  {
   "cell_type": "markdown",
   "metadata": {
    "id": "8J45HGqnbadr"
   },
   "source": [
    "Viewing the `solution` table.\n",
    "<br>Columns:\n",
    "* `user`\n",
    "* `value`"
   ]
  },
  {
   "cell_type": "code",
   "execution_count": 13,
   "metadata": {
    "colab": {
     "base_uri": "https://localhost:8080/",
     "height": 53
    },
    "id": "thPKwDF9fgPo",
    "outputId": "15322e7e-03cc-4891-e0e7-ef9868fdfd50"
   },
   "outputs": [
    {
     "data": {
      "text/html": [
       "<div>\n",
       "<style scoped>\n",
       "    .dataframe tbody tr th:only-of-type {\n",
       "        vertical-align: middle;\n",
       "    }\n",
       "\n",
       "    .dataframe tbody tr th {\n",
       "        vertical-align: top;\n",
       "    }\n",
       "\n",
       "    .dataframe thead th {\n",
       "        text-align: right;\n",
       "    }\n",
       "</style>\n",
       "<table border=\"1\" class=\"dataframe\">\n",
       "  <thead>\n",
       "    <tr style=\"text-align: right;\">\n",
       "      <th></th>\n",
       "      <th>user</th>\n",
       "      <th>value</th>\n",
       "    </tr>\n",
       "  </thead>\n",
       "  <tbody>\n",
       "  </tbody>\n",
       "</table>\n",
       "</div>"
      ],
      "text/plain": [
       "Empty DataFrame\n",
       "Columns: [user, value]\n",
       "Index: []"
      ]
     },
     "execution_count": 13,
     "metadata": {},
     "output_type": "execute_result"
    }
   ],
   "source": [
    "# Query to view top 5 rows from the data\n",
    "sol = '''\n",
    "SELECT *\n",
    "FROM solution\n",
    "LIMIT 5\n",
    "'''\n",
    "pd.read_sql_query(sol, con)"
   ]
  },
  {
   "cell_type": "markdown",
   "metadata": {
    "id": "mrFK2V7JSVGs"
   },
   "source": [
    "## **Clue To The Mystery**\n",
    "Till now we can only remember the date and place of murder.\n",
    "*  `Date` : 15 January, 2018\n",
    "*  `Place` : SQL City"
   ]
  },
  {
   "cell_type": "code",
   "execution_count": 14,
   "metadata": {
    "colab": {
     "base_uri": "https://localhost:8080/",
     "height": 98
    },
    "id": "5bZPG973Fa_9",
    "outputId": "0ba1004d-a971-442e-cf1f-6fd57857fc55"
   },
   "outputs": [
    {
     "data": {
      "text/html": [
       "<div>\n",
       "<style scoped>\n",
       "    .dataframe tbody tr th:only-of-type {\n",
       "        vertical-align: middle;\n",
       "    }\n",
       "\n",
       "    .dataframe tbody tr th {\n",
       "        vertical-align: top;\n",
       "    }\n",
       "\n",
       "    .dataframe thead th {\n",
       "        text-align: right;\n",
       "    }\n",
       "</style>\n",
       "<table border=\"1\" class=\"dataframe\">\n",
       "  <thead>\n",
       "    <tr style=\"text-align: right;\">\n",
       "      <th></th>\n",
       "      <th>date</th>\n",
       "      <th>type</th>\n",
       "      <th>description</th>\n",
       "      <th>city</th>\n",
       "    </tr>\n",
       "  </thead>\n",
       "  <tbody>\n",
       "    <tr>\n",
       "      <th>0</th>\n",
       "      <td>20180115</td>\n",
       "      <td>murder</td>\n",
       "      <td>Security footage shows that there were 2 witnesses. The first witness lives at the last house on \"Northwestern Dr\". The second witness, named Annabel, lives somewhere on \"Franklin Ave\".</td>\n",
       "      <td>SQL City</td>\n",
       "    </tr>\n",
       "  </tbody>\n",
       "</table>\n",
       "</div>"
      ],
      "text/plain": [
       "       date    type  \\\n",
       "0  20180115  murder   \n",
       "\n",
       "                                                                                                                                                                                 description  \\\n",
       "0  Security footage shows that there were 2 witnesses. The first witness lives at the last house on \"Northwestern Dr\". The second witness, named Annabel, lives somewhere on \"Franklin Ave\".   \n",
       "\n",
       "       city  \n",
       "0  SQL City  "
      ]
     },
     "execution_count": 14,
     "metadata": {},
     "output_type": "execute_result"
    }
   ],
   "source": [
    "# Viewing the Murder happened in SQL City on 15 January 2018\n",
    "crime_scene = '''\n",
    "SELECT *\n",
    "FROM crime_scene_report\n",
    "WHERE city = \"SQL City\"\n",
    "AND date = 20180115\n",
    "AND type = 'murder'\n",
    "'''\n",
    "pd.read_sql_query(crime_scene, con)"
   ]
  },
  {
   "cell_type": "markdown",
   "metadata": {
    "id": "8lAIPNUreGZS"
   },
   "source": [
    "## **Solving Murder Mystery**"
   ]
  },
  {
   "cell_type": "markdown",
   "metadata": {
    "id": "nMVrdzrthSVl"
   },
   "source": [
    "Till now we can only remember the date and place of murder.\n",
    "*  `Date` : 15 January, 2018\n",
    "*  `Place` : SQL City"
   ]
  },
  {
   "cell_type": "code",
   "execution_count": 15,
   "metadata": {
    "colab": {
     "base_uri": "https://localhost:8080/",
     "height": 98
    },
    "id": "KQzn9HfCeZlw",
    "outputId": "e6eb5dc0-8f04-4833-8970-a357dd2ebcfc"
   },
   "outputs": [
    {
     "data": {
      "text/html": [
       "<div>\n",
       "<style scoped>\n",
       "    .dataframe tbody tr th:only-of-type {\n",
       "        vertical-align: middle;\n",
       "    }\n",
       "\n",
       "    .dataframe tbody tr th {\n",
       "        vertical-align: top;\n",
       "    }\n",
       "\n",
       "    .dataframe thead th {\n",
       "        text-align: right;\n",
       "    }\n",
       "</style>\n",
       "<table border=\"1\" class=\"dataframe\">\n",
       "  <thead>\n",
       "    <tr style=\"text-align: right;\">\n",
       "      <th></th>\n",
       "      <th>date</th>\n",
       "      <th>type</th>\n",
       "      <th>description</th>\n",
       "      <th>city</th>\n",
       "    </tr>\n",
       "  </thead>\n",
       "  <tbody>\n",
       "    <tr>\n",
       "      <th>0</th>\n",
       "      <td>20180115</td>\n",
       "      <td>murder</td>\n",
       "      <td>Security footage shows that there were 2 witnesses. The first witness lives at the last house on \"Northwestern Dr\". The second witness, named Annabel, lives somewhere on \"Franklin Ave\".</td>\n",
       "      <td>SQL City</td>\n",
       "    </tr>\n",
       "  </tbody>\n",
       "</table>\n",
       "</div>"
      ],
      "text/plain": [
       "       date    type  \\\n",
       "0  20180115  murder   \n",
       "\n",
       "                                                                                                                                                                                 description  \\\n",
       "0  Security footage shows that there were 2 witnesses. The first witness lives at the last house on \"Northwestern Dr\". The second witness, named Annabel, lives somewhere on \"Franklin Ave\".   \n",
       "\n",
       "       city  \n",
       "0  SQL City  "
      ]
     },
     "execution_count": 15,
     "metadata": {},
     "output_type": "execute_result"
    }
   ],
   "source": [
    "# Viewing the crime report evidance\n",
    "\n",
    "query_1 = '''\n",
    "SELECT *\n",
    "FROM crime_scene_report\n",
    "WHERE type = 'murder'\n",
    "AND city = 'SQL City'\n",
    "AND date = 20180115\n",
    ";\n",
    "'''\n",
    "pd.read_sql_query(query_1, con)"
   ]
  },
  {
   "cell_type": "markdown",
   "metadata": {
    "id": "aqDf_-dlh0_O"
   },
   "source": [
    "We will first get familiarize with the dataset of the `person` table."
   ]
  },
  {
   "cell_type": "code",
   "execution_count": 16,
   "metadata": {
    "colab": {
     "base_uri": "https://localhost:8080/",
     "height": 206
    },
    "id": "6_0iJC5hfUm0",
    "outputId": "cb5fa40e-2911-4c23-9521-0f0755b1e50d"
   },
   "outputs": [
    {
     "data": {
      "text/html": [
       "<div>\n",
       "<style scoped>\n",
       "    .dataframe tbody tr th:only-of-type {\n",
       "        vertical-align: middle;\n",
       "    }\n",
       "\n",
       "    .dataframe tbody tr th {\n",
       "        vertical-align: top;\n",
       "    }\n",
       "\n",
       "    .dataframe thead th {\n",
       "        text-align: right;\n",
       "    }\n",
       "</style>\n",
       "<table border=\"1\" class=\"dataframe\">\n",
       "  <thead>\n",
       "    <tr style=\"text-align: right;\">\n",
       "      <th></th>\n",
       "      <th>id</th>\n",
       "      <th>name</th>\n",
       "      <th>license_id</th>\n",
       "      <th>address_number</th>\n",
       "      <th>address_street_name</th>\n",
       "      <th>ssn</th>\n",
       "    </tr>\n",
       "  </thead>\n",
       "  <tbody>\n",
       "    <tr>\n",
       "      <th>0</th>\n",
       "      <td>10000</td>\n",
       "      <td>Christoper Peteuil</td>\n",
       "      <td>993845</td>\n",
       "      <td>624</td>\n",
       "      <td>Bankhall Ave</td>\n",
       "      <td>747714076</td>\n",
       "    </tr>\n",
       "    <tr>\n",
       "      <th>1</th>\n",
       "      <td>10007</td>\n",
       "      <td>Kourtney Calderwood</td>\n",
       "      <td>861794</td>\n",
       "      <td>2791</td>\n",
       "      <td>Gustavus Blvd</td>\n",
       "      <td>477972044</td>\n",
       "    </tr>\n",
       "    <tr>\n",
       "      <th>2</th>\n",
       "      <td>10010</td>\n",
       "      <td>Muoi Cary</td>\n",
       "      <td>385336</td>\n",
       "      <td>741</td>\n",
       "      <td>Northwestern Dr</td>\n",
       "      <td>828638512</td>\n",
       "    </tr>\n",
       "    <tr>\n",
       "      <th>3</th>\n",
       "      <td>10016</td>\n",
       "      <td>Era Moselle</td>\n",
       "      <td>431897</td>\n",
       "      <td>1987</td>\n",
       "      <td>Wood Glade St</td>\n",
       "      <td>614621061</td>\n",
       "    </tr>\n",
       "    <tr>\n",
       "      <th>4</th>\n",
       "      <td>10025</td>\n",
       "      <td>Trena Hornby</td>\n",
       "      <td>550890</td>\n",
       "      <td>276</td>\n",
       "      <td>Daws Hill Way</td>\n",
       "      <td>223877684</td>\n",
       "    </tr>\n",
       "  </tbody>\n",
       "</table>\n",
       "</div>"
      ],
      "text/plain": [
       "      id                 name  license_id  address_number address_street_name  \\\n",
       "0  10000   Christoper Peteuil      993845             624        Bankhall Ave   \n",
       "1  10007  Kourtney Calderwood      861794            2791       Gustavus Blvd   \n",
       "2  10010            Muoi Cary      385336             741     Northwestern Dr   \n",
       "3  10016          Era Moselle      431897            1987       Wood Glade St   \n",
       "4  10025         Trena Hornby      550890             276       Daws Hill Way   \n",
       "\n",
       "         ssn  \n",
       "0  747714076  \n",
       "1  477972044  \n",
       "2  828638512  \n",
       "3  614621061  \n",
       "4  223877684  "
      ]
     },
     "execution_count": 16,
     "metadata": {},
     "output_type": "execute_result"
    }
   ],
   "source": [
    "# Check out the table\n",
    "\n",
    "query_2 = '''\n",
    "SELECT *\n",
    "FROM person\n",
    "LIMIT 5\n",
    ";\n",
    "'''\n",
    "pd.read_sql_query(query_2, con)"
   ]
  },
  {
   "cell_type": "markdown",
   "metadata": {
    "id": "-adOEjJdiEMg"
   },
   "source": [
    "In order to find the first witness, we will search database with the matching parameters.\n",
    "<Br>First witness lives on `LAST house of Northwestern Dr`.\n",
    "<br>To find the person we will perform the query with following steps:\n",
    "1. Select the `person` table\n",
    "2. Find `address_street_name` - `Northwestern Dr`\n",
    "3. Find the first name in `Descending` order"
   ]
  },
  {
   "cell_type": "code",
   "execution_count": 17,
   "metadata": {
    "colab": {
     "base_uri": "https://localhost:8080/",
     "height": 81
    },
    "id": "dUoJsu5Lf5lg",
    "outputId": "a4d9dc1a-b25e-4d38-de03-646ce5578d5f"
   },
   "outputs": [
    {
     "data": {
      "text/html": [
       "<div>\n",
       "<style scoped>\n",
       "    .dataframe tbody tr th:only-of-type {\n",
       "        vertical-align: middle;\n",
       "    }\n",
       "\n",
       "    .dataframe tbody tr th {\n",
       "        vertical-align: top;\n",
       "    }\n",
       "\n",
       "    .dataframe thead th {\n",
       "        text-align: right;\n",
       "    }\n",
       "</style>\n",
       "<table border=\"1\" class=\"dataframe\">\n",
       "  <thead>\n",
       "    <tr style=\"text-align: right;\">\n",
       "      <th></th>\n",
       "      <th>id</th>\n",
       "      <th>name</th>\n",
       "      <th>license_id</th>\n",
       "      <th>address_number</th>\n",
       "      <th>address_street_name</th>\n",
       "      <th>ssn</th>\n",
       "    </tr>\n",
       "  </thead>\n",
       "  <tbody>\n",
       "    <tr>\n",
       "      <th>0</th>\n",
       "      <td>14887</td>\n",
       "      <td>Morty Schapiro</td>\n",
       "      <td>118009</td>\n",
       "      <td>4919</td>\n",
       "      <td>Northwestern Dr</td>\n",
       "      <td>111564949</td>\n",
       "    </tr>\n",
       "  </tbody>\n",
       "</table>\n",
       "</div>"
      ],
      "text/plain": [
       "      id            name  license_id  address_number address_street_name  \\\n",
       "0  14887  Morty Schapiro      118009            4919     Northwestern Dr   \n",
       "\n",
       "         ssn  \n",
       "0  111564949  "
      ]
     },
     "execution_count": 17,
     "metadata": {},
     "output_type": "execute_result"
    }
   ],
   "source": [
    "# Security footage shows that there were 2 witnesses.\n",
    "# The first witness : Place - Last house on \"Northwestern Dr\".\n",
    "\n",
    "# Finding the first witness, we got a clue that they live in LAST house of Northwestern Dr\n",
    "\n",
    "query_3 = '''\n",
    "SELECT *\n",
    "FROM person\n",
    "WHERE address_street_name = 'Northwestern Dr'\n",
    "ORDER BY address_number DESC\n",
    "LIMIT 1\n",
    ";\n",
    "'''\n",
    "pd.read_sql_query(query_3, con)"
   ]
  },
  {
   "cell_type": "markdown",
   "metadata": {
    "id": "YAdXqFOAk4h-"
   },
   "source": [
    "In order to find the second witness, we will search database with the matching parameters.\n",
    "<Br>First witness lives on `somewhere in Franklin Ave` and her name is `Annabel`.\n",
    "<br>To find the person we will perform the query with following steps:\n",
    "1. Select the `person` table\n",
    "2. Find `address_street_name` - `Franklin Ave`\n",
    "3. Find the name like `Annabel`"
   ]
  },
  {
   "cell_type": "code",
   "execution_count": 18,
   "metadata": {
    "colab": {
     "base_uri": "https://localhost:8080/",
     "height": 81
    },
    "id": "PnKdYXeSgcje",
    "outputId": "67481da5-e222-433b-d1f5-2171dfb8297e"
   },
   "outputs": [
    {
     "data": {
      "text/html": [
       "<div>\n",
       "<style scoped>\n",
       "    .dataframe tbody tr th:only-of-type {\n",
       "        vertical-align: middle;\n",
       "    }\n",
       "\n",
       "    .dataframe tbody tr th {\n",
       "        vertical-align: top;\n",
       "    }\n",
       "\n",
       "    .dataframe thead th {\n",
       "        text-align: right;\n",
       "    }\n",
       "</style>\n",
       "<table border=\"1\" class=\"dataframe\">\n",
       "  <thead>\n",
       "    <tr style=\"text-align: right;\">\n",
       "      <th></th>\n",
       "      <th>id</th>\n",
       "      <th>name</th>\n",
       "      <th>license_id</th>\n",
       "      <th>address_number</th>\n",
       "      <th>address_street_name</th>\n",
       "      <th>ssn</th>\n",
       "    </tr>\n",
       "  </thead>\n",
       "  <tbody>\n",
       "    <tr>\n",
       "      <th>0</th>\n",
       "      <td>16371</td>\n",
       "      <td>Annabel Miller</td>\n",
       "      <td>490173</td>\n",
       "      <td>103</td>\n",
       "      <td>Franklin Ave</td>\n",
       "      <td>318771143</td>\n",
       "    </tr>\n",
       "  </tbody>\n",
       "</table>\n",
       "</div>"
      ],
      "text/plain": [
       "      id            name  license_id  address_number address_street_name  \\\n",
       "0  16371  Annabel Miller      490173             103        Franklin Ave   \n",
       "\n",
       "         ssn  \n",
       "0  318771143  "
      ]
     },
     "execution_count": 18,
     "metadata": {},
     "output_type": "execute_result"
    }
   ],
   "source": [
    "# Security footage shows that there were 2 witnesses.\n",
    "# The second witness: Name - Annabel\n",
    "#                     Place - Somewhere on \"Franklin Ave\".\n",
    "\n",
    "# Finding the second witness, we got a clue that they live in Franklin Ave and her name is Annabel\n",
    "\n",
    "query_4 = '''\n",
    "SELECT *\n",
    "FROM person\n",
    "WHERE address_street_name = 'Franklin Ave'\n",
    "AND name LIKE '%Annabel%'\n",
    ";\n",
    "'''\n",
    "pd.read_sql_query(query_4, con)"
   ]
  },
  {
   "cell_type": "markdown",
   "metadata": {
    "id": "usUwwVuDr5fA"
   },
   "source": [
    "After retrieving their `id`, hear about their `interview` and note for clues.\n",
    "<br> We will note the transcript of witnesses of id `14887` and `16371`."
   ]
  },
  {
   "cell_type": "code",
   "execution_count": 19,
   "metadata": {
    "colab": {
     "base_uri": "https://localhost:8080/",
     "height": 129
    },
    "id": "ozu6UYkNhO43",
    "outputId": "c2d37690-4448-4aa8-c277-f5e4d7be0a37"
   },
   "outputs": [
    {
     "data": {
      "text/html": [
       "<div>\n",
       "<style scoped>\n",
       "    .dataframe tbody tr th:only-of-type {\n",
       "        vertical-align: middle;\n",
       "    }\n",
       "\n",
       "    .dataframe tbody tr th {\n",
       "        vertical-align: top;\n",
       "    }\n",
       "\n",
       "    .dataframe thead th {\n",
       "        text-align: right;\n",
       "    }\n",
       "</style>\n",
       "<table border=\"1\" class=\"dataframe\">\n",
       "  <thead>\n",
       "    <tr style=\"text-align: right;\">\n",
       "      <th></th>\n",
       "      <th>person_id</th>\n",
       "      <th>transcript</th>\n",
       "    </tr>\n",
       "  </thead>\n",
       "  <tbody>\n",
       "    <tr>\n",
       "      <th>0</th>\n",
       "      <td>14887</td>\n",
       "      <td>I heard a gunshot and then saw a man run out. He had a \"Get Fit Now Gym\" bag. The membership number on the bag started with \"48Z\". Only gold members have those bags. The man got into a car with a plate that included \"H42W\".</td>\n",
       "    </tr>\n",
       "    <tr>\n",
       "      <th>1</th>\n",
       "      <td>16371</td>\n",
       "      <td>I saw the murder happen, and I recognized the killer from my gym when I was working out last week on January the 9th.</td>\n",
       "    </tr>\n",
       "  </tbody>\n",
       "</table>\n",
       "</div>"
      ],
      "text/plain": [
       "   person_id  \\\n",
       "0      14887   \n",
       "1      16371   \n",
       "\n",
       "                                                                                                                                                                                                                        transcript  \n",
       "0  I heard a gunshot and then saw a man run out. He had a \"Get Fit Now Gym\" bag. The membership number on the bag started with \"48Z\". Only gold members have those bags. The man got into a car with a plate that included \"H42W\".  \n",
       "1                                                                                                            I saw the murder happen, and I recognized the killer from my gym when I was working out last week on January the 9th.  "
      ]
     },
     "execution_count": 19,
     "metadata": {},
     "output_type": "execute_result"
    }
   ],
   "source": [
    "# Now listening to the interview of two persons with ID 14887,16371\n",
    "\n",
    "query_5 = '''\n",
    "SELECT *\n",
    "FROM interview\n",
    "WHERE person_id IN (14887,16371)\n",
    ";\n",
    "'''\n",
    "pd.read_sql_query(query_5, con)"
   ]
  },
  {
   "cell_type": "markdown",
   "metadata": {
    "id": "kwm8r9lFsLBF"
   },
   "source": [
    "According to first witness, the culprit has following characteristics:\n",
    "* `Gold` Member of `Get Fit Now Gym`\n",
    "* Bag with membership number `starting with 48Z`\n",
    "* Has car `number plate including H42W`\n",
    "* Is a `male`\n",
    "\n",
    "To find the person we will perform the query with following steps:\n",
    "1. Select the `get_fit_now_member` table\n",
    "2. Find `membership_status` - `Gold`\n",
    "3. Find the `id` like `48Z`\n"
   ]
  },
  {
   "cell_type": "code",
   "execution_count": 20,
   "metadata": {
    "colab": {
     "base_uri": "https://localhost:8080/",
     "height": 112
    },
    "id": "wH55_qMWl-ah",
    "outputId": "a9afe4aa-6b03-4a71-ffde-edd02c667077"
   },
   "outputs": [
    {
     "data": {
      "text/html": [
       "<div>\n",
       "<style scoped>\n",
       "    .dataframe tbody tr th:only-of-type {\n",
       "        vertical-align: middle;\n",
       "    }\n",
       "\n",
       "    .dataframe tbody tr th {\n",
       "        vertical-align: top;\n",
       "    }\n",
       "\n",
       "    .dataframe thead th {\n",
       "        text-align: right;\n",
       "    }\n",
       "</style>\n",
       "<table border=\"1\" class=\"dataframe\">\n",
       "  <thead>\n",
       "    <tr style=\"text-align: right;\">\n",
       "      <th></th>\n",
       "      <th>id</th>\n",
       "      <th>person_id</th>\n",
       "      <th>name</th>\n",
       "      <th>membership_start_date</th>\n",
       "      <th>membership_status</th>\n",
       "    </tr>\n",
       "  </thead>\n",
       "  <tbody>\n",
       "    <tr>\n",
       "      <th>0</th>\n",
       "      <td>48Z7A</td>\n",
       "      <td>28819</td>\n",
       "      <td>Joe Germuska</td>\n",
       "      <td>20160305</td>\n",
       "      <td>gold</td>\n",
       "    </tr>\n",
       "    <tr>\n",
       "      <th>1</th>\n",
       "      <td>48Z55</td>\n",
       "      <td>67318</td>\n",
       "      <td>Jeremy Bowers</td>\n",
       "      <td>20160101</td>\n",
       "      <td>gold</td>\n",
       "    </tr>\n",
       "  </tbody>\n",
       "</table>\n",
       "</div>"
      ],
      "text/plain": [
       "      id  person_id           name  membership_start_date membership_status\n",
       "0  48Z7A      28819   Joe Germuska               20160305              gold\n",
       "1  48Z55      67318  Jeremy Bowers               20160101              gold"
      ]
     },
     "execution_count": 20,
     "metadata": {},
     "output_type": "execute_result"
    }
   ],
   "source": [
    "# ID 14887 Keynotes : Gold Member of GET FIT NOW GYM.\n",
    "#                     Membership Number Starting with 48Z\n",
    "#                     Has car with number plate including H42W\n",
    "# ID 16371 Keynotes : Gym Checkin on 9 Jan 2018\n",
    "\n",
    "# Validating data with the notes of witness 1 with GYM Details\n",
    "\n",
    "query_6 = '''\n",
    "SELECT *\n",
    "FROM get_fit_now_member\n",
    "WHERE membership_status = 'gold'\n",
    "AND id LIKE '48Z%'\n",
    ";\n",
    "'''\n",
    "pd.read_sql_query(query_6, con)"
   ]
  },
  {
   "cell_type": "markdown",
   "metadata": {
    "id": "xrCwMic-4glT"
   },
   "source": [
    "4. Select `drivers_license` table.\n",
    "5. Find plate_number like `H42W`\n",
    "6. The culprit should be `male`"
   ]
  },
  {
   "cell_type": "code",
   "execution_count": 21,
   "metadata": {
    "colab": {
     "base_uri": "https://localhost:8080/",
     "height": 112
    },
    "id": "XpGa1KIRm5lA",
    "outputId": "b3e99afe-ede9-471c-a920-bf0d9f75729f"
   },
   "outputs": [
    {
     "data": {
      "text/html": [
       "<div>\n",
       "<style scoped>\n",
       "    .dataframe tbody tr th:only-of-type {\n",
       "        vertical-align: middle;\n",
       "    }\n",
       "\n",
       "    .dataframe tbody tr th {\n",
       "        vertical-align: top;\n",
       "    }\n",
       "\n",
       "    .dataframe thead th {\n",
       "        text-align: right;\n",
       "    }\n",
       "</style>\n",
       "<table border=\"1\" class=\"dataframe\">\n",
       "  <thead>\n",
       "    <tr style=\"text-align: right;\">\n",
       "      <th></th>\n",
       "      <th>id</th>\n",
       "      <th>age</th>\n",
       "      <th>height</th>\n",
       "      <th>eye_color</th>\n",
       "      <th>hair_color</th>\n",
       "      <th>gender</th>\n",
       "      <th>plate_number</th>\n",
       "      <th>car_make</th>\n",
       "      <th>car_model</th>\n",
       "    </tr>\n",
       "  </thead>\n",
       "  <tbody>\n",
       "    <tr>\n",
       "      <th>0</th>\n",
       "      <td>423327</td>\n",
       "      <td>30</td>\n",
       "      <td>70</td>\n",
       "      <td>brown</td>\n",
       "      <td>brown</td>\n",
       "      <td>male</td>\n",
       "      <td>0H42W2</td>\n",
       "      <td>Chevrolet</td>\n",
       "      <td>Spark LS</td>\n",
       "    </tr>\n",
       "    <tr>\n",
       "      <th>1</th>\n",
       "      <td>664760</td>\n",
       "      <td>21</td>\n",
       "      <td>71</td>\n",
       "      <td>black</td>\n",
       "      <td>black</td>\n",
       "      <td>male</td>\n",
       "      <td>4H42WR</td>\n",
       "      <td>Nissan</td>\n",
       "      <td>Altima</td>\n",
       "    </tr>\n",
       "  </tbody>\n",
       "</table>\n",
       "</div>"
      ],
      "text/plain": [
       "       id  age  height eye_color hair_color gender plate_number   car_make  \\\n",
       "0  423327   30      70     brown      brown   male       0H42W2  Chevrolet   \n",
       "1  664760   21      71     black      black   male       4H42WR     Nissan   \n",
       "\n",
       "  car_model  \n",
       "0  Spark LS  \n",
       "1    Altima  "
      ]
     },
     "execution_count": 21,
     "metadata": {},
     "output_type": "execute_result"
    }
   ],
   "source": [
    "# Validating data with the notes of witness 1 with CAR Details\n",
    "\n",
    "query_7 = '''\n",
    "SELECT *\n",
    "FROM drivers_license\n",
    "WHERE plate_number LIKE '%H42W%'\n",
    "AND gender = 'male'\n",
    ";\n",
    "'''\n",
    "pd.read_sql_query(query_7, con)"
   ]
  },
  {
   "cell_type": "markdown",
   "metadata": {
    "id": "C7Yxg5nJ3hva"
   },
   "source": [
    "* Inner joining `get_fit_now_member` with `drivers_license` table.\n",
    "* Search the `culprit over same parameters` with witness 1's note.\n"
   ]
  },
  {
   "cell_type": "code",
   "execution_count": 22,
   "metadata": {
    "colab": {
     "base_uri": "https://localhost:8080/",
     "height": 167
    },
    "id": "gfqLOtJNnxDl",
    "outputId": "6704bf38-d5f8-4160-ed52-a283a96a9fc1"
   },
   "outputs": [
    {
     "data": {
      "text/html": [
       "<div>\n",
       "<style scoped>\n",
       "    .dataframe tbody tr th:only-of-type {\n",
       "        vertical-align: middle;\n",
       "    }\n",
       "\n",
       "    .dataframe tbody tr th {\n",
       "        vertical-align: top;\n",
       "    }\n",
       "\n",
       "    .dataframe thead th {\n",
       "        text-align: right;\n",
       "    }\n",
       "</style>\n",
       "<table border=\"1\" class=\"dataframe\">\n",
       "  <thead>\n",
       "    <tr style=\"text-align: right;\">\n",
       "      <th></th>\n",
       "      <th>id</th>\n",
       "      <th>name</th>\n",
       "      <th>license_id</th>\n",
       "      <th>address_number</th>\n",
       "      <th>address_street_name</th>\n",
       "      <th>ssn</th>\n",
       "      <th>id</th>\n",
       "      <th>age</th>\n",
       "      <th>height</th>\n",
       "      <th>eye_color</th>\n",
       "      <th>hair_color</th>\n",
       "      <th>gender</th>\n",
       "      <th>plate_number</th>\n",
       "      <th>car_make</th>\n",
       "      <th>car_model</th>\n",
       "    </tr>\n",
       "  </thead>\n",
       "  <tbody>\n",
       "    <tr>\n",
       "      <th>0</th>\n",
       "      <td>51739</td>\n",
       "      <td>Tushar Chandra</td>\n",
       "      <td>664760</td>\n",
       "      <td>312</td>\n",
       "      <td>Phi St</td>\n",
       "      <td>137882671</td>\n",
       "      <td>664760</td>\n",
       "      <td>21</td>\n",
       "      <td>71</td>\n",
       "      <td>black</td>\n",
       "      <td>black</td>\n",
       "      <td>male</td>\n",
       "      <td>4H42WR</td>\n",
       "      <td>Nissan</td>\n",
       "      <td>Altima</td>\n",
       "    </tr>\n",
       "    <tr>\n",
       "      <th>1</th>\n",
       "      <td>67318</td>\n",
       "      <td>Jeremy Bowers</td>\n",
       "      <td>423327</td>\n",
       "      <td>530</td>\n",
       "      <td>Washington Pl, Apt 3A</td>\n",
       "      <td>871539279</td>\n",
       "      <td>423327</td>\n",
       "      <td>30</td>\n",
       "      <td>70</td>\n",
       "      <td>brown</td>\n",
       "      <td>brown</td>\n",
       "      <td>male</td>\n",
       "      <td>0H42W2</td>\n",
       "      <td>Chevrolet</td>\n",
       "      <td>Spark LS</td>\n",
       "    </tr>\n",
       "  </tbody>\n",
       "</table>\n",
       "</div>"
      ],
      "text/plain": [
       "      id            name  license_id  address_number    address_street_name  \\\n",
       "0  51739  Tushar Chandra      664760             312                 Phi St   \n",
       "1  67318   Jeremy Bowers      423327             530  Washington Pl, Apt 3A   \n",
       "\n",
       "         ssn      id  age  height eye_color hair_color gender plate_number  \\\n",
       "0  137882671  664760   21      71     black      black   male       4H42WR   \n",
       "1  871539279  423327   30      70     brown      brown   male       0H42W2   \n",
       "\n",
       "    car_make car_model  \n",
       "0     Nissan    Altima  \n",
       "1  Chevrolet  Spark LS  "
      ]
     },
     "execution_count": 22,
     "metadata": {},
     "output_type": "execute_result"
    }
   ],
   "source": [
    "# Validating data with the notes of witness 1 with CAR and GYM Details\n",
    "\n",
    "query_8 = '''\n",
    "SELECT *\n",
    "FROM person as p\n",
    "INNER JOIN drivers_license as dl on p.license_id = dl.id\n",
    "WHERE plate_number LIKE '%H42W%'\n",
    "AND gender = 'male'\n",
    ";\n",
    "'''\n",
    "pd.read_sql_query(query_8, con)"
   ]
  },
  {
   "cell_type": "markdown",
   "metadata": {
    "id": "Wy4APE6P5HTW"
   },
   "source": [
    "According to second witness, the culprit has following characteristics:\n",
    "* Member of `Get Fit Now Gym`\n",
    "* He checked in Gym on `9 Jan 2018`\n",
    "\n",
    "<br>To find the person we will perform the query with following steps:\n",
    "1. Select the `get_fit_now_check_in` table\n",
    "2. Find date - `20180109`"
   ]
  },
  {
   "cell_type": "code",
   "execution_count": 23,
   "metadata": {
    "colab": {
     "base_uri": "https://localhost:8080/",
     "height": 363
    },
    "id": "ASuz7H9as1Vk",
    "outputId": "88fdafd2-e252-4a35-cb5d-61d0f36ec65c"
   },
   "outputs": [
    {
     "data": {
      "text/html": [
       "<div>\n",
       "<style scoped>\n",
       "    .dataframe tbody tr th:only-of-type {\n",
       "        vertical-align: middle;\n",
       "    }\n",
       "\n",
       "    .dataframe tbody tr th {\n",
       "        vertical-align: top;\n",
       "    }\n",
       "\n",
       "    .dataframe thead th {\n",
       "        text-align: right;\n",
       "    }\n",
       "</style>\n",
       "<table border=\"1\" class=\"dataframe\">\n",
       "  <thead>\n",
       "    <tr style=\"text-align: right;\">\n",
       "      <th></th>\n",
       "      <th>membership_id</th>\n",
       "      <th>check_in_date</th>\n",
       "      <th>check_in_time</th>\n",
       "      <th>check_out_time</th>\n",
       "    </tr>\n",
       "  </thead>\n",
       "  <tbody>\n",
       "    <tr>\n",
       "      <th>0</th>\n",
       "      <td>X0643</td>\n",
       "      <td>20180109</td>\n",
       "      <td>957</td>\n",
       "      <td>1164</td>\n",
       "    </tr>\n",
       "    <tr>\n",
       "      <th>1</th>\n",
       "      <td>UK1F2</td>\n",
       "      <td>20180109</td>\n",
       "      <td>344</td>\n",
       "      <td>518</td>\n",
       "    </tr>\n",
       "    <tr>\n",
       "      <th>2</th>\n",
       "      <td>XTE42</td>\n",
       "      <td>20180109</td>\n",
       "      <td>486</td>\n",
       "      <td>1124</td>\n",
       "    </tr>\n",
       "    <tr>\n",
       "      <th>3</th>\n",
       "      <td>1AE2H</td>\n",
       "      <td>20180109</td>\n",
       "      <td>461</td>\n",
       "      <td>944</td>\n",
       "    </tr>\n",
       "    <tr>\n",
       "      <th>4</th>\n",
       "      <td>6LSTG</td>\n",
       "      <td>20180109</td>\n",
       "      <td>399</td>\n",
       "      <td>515</td>\n",
       "    </tr>\n",
       "    <tr>\n",
       "      <th>5</th>\n",
       "      <td>7MWHJ</td>\n",
       "      <td>20180109</td>\n",
       "      <td>273</td>\n",
       "      <td>885</td>\n",
       "    </tr>\n",
       "    <tr>\n",
       "      <th>6</th>\n",
       "      <td>GE5Q8</td>\n",
       "      <td>20180109</td>\n",
       "      <td>367</td>\n",
       "      <td>959</td>\n",
       "    </tr>\n",
       "    <tr>\n",
       "      <th>7</th>\n",
       "      <td>48Z7A</td>\n",
       "      <td>20180109</td>\n",
       "      <td>1600</td>\n",
       "      <td>1730</td>\n",
       "    </tr>\n",
       "    <tr>\n",
       "      <th>8</th>\n",
       "      <td>48Z55</td>\n",
       "      <td>20180109</td>\n",
       "      <td>1530</td>\n",
       "      <td>1700</td>\n",
       "    </tr>\n",
       "    <tr>\n",
       "      <th>9</th>\n",
       "      <td>90081</td>\n",
       "      <td>20180109</td>\n",
       "      <td>1600</td>\n",
       "      <td>1700</td>\n",
       "    </tr>\n",
       "  </tbody>\n",
       "</table>\n",
       "</div>"
      ],
      "text/plain": [
       "  membership_id  check_in_date  check_in_time  check_out_time\n",
       "0         X0643       20180109            957            1164\n",
       "1         UK1F2       20180109            344             518\n",
       "2         XTE42       20180109            486            1124\n",
       "3         1AE2H       20180109            461             944\n",
       "4         6LSTG       20180109            399             515\n",
       "5         7MWHJ       20180109            273             885\n",
       "6         GE5Q8       20180109            367             959\n",
       "7         48Z7A       20180109           1600            1730\n",
       "8         48Z55       20180109           1530            1700\n",
       "9         90081       20180109           1600            1700"
      ]
     },
     "execution_count": 23,
     "metadata": {},
     "output_type": "execute_result"
    }
   ],
   "source": [
    "# Validating data with the notes of witness 2 with GYM CHECKIN Details\n",
    "\n",
    "query_9 = '''\n",
    "SELECT *\n",
    "FROM get_fit_now_check_in\n",
    "WHERE check_in_date = 20180109\n",
    ";\n",
    "'''\n",
    "pd.read_sql_query(query_9, con)"
   ]
  },
  {
   "cell_type": "markdown",
   "metadata": {
    "id": "gZpcNBUs59Us"
   },
   "source": [
    "Looking out for personal details using the `Inner Join` of `person` to `drivers_license`."
   ]
  },
  {
   "cell_type": "code",
   "execution_count": 24,
   "metadata": {
    "colab": {
     "base_uri": "https://localhost:8080/",
     "height": 112
    },
    "id": "oVSGNgo-oXbY",
    "outputId": "6924b9bf-13e9-44c3-8235-adcbdb8836a1"
   },
   "outputs": [
    {
     "data": {
      "text/html": [
       "<div>\n",
       "<style scoped>\n",
       "    .dataframe tbody tr th:only-of-type {\n",
       "        vertical-align: middle;\n",
       "    }\n",
       "\n",
       "    .dataframe tbody tr th {\n",
       "        vertical-align: top;\n",
       "    }\n",
       "\n",
       "    .dataframe thead th {\n",
       "        text-align: right;\n",
       "    }\n",
       "</style>\n",
       "<table border=\"1\" class=\"dataframe\">\n",
       "  <thead>\n",
       "    <tr style=\"text-align: right;\">\n",
       "      <th></th>\n",
       "      <th>id</th>\n",
       "      <th>name</th>\n",
       "      <th>license_id</th>\n",
       "      <th>address_number</th>\n",
       "      <th>address_street_name</th>\n",
       "      <th>ssn</th>\n",
       "    </tr>\n",
       "  </thead>\n",
       "  <tbody>\n",
       "    <tr>\n",
       "      <th>0</th>\n",
       "      <td>51739</td>\n",
       "      <td>Tushar Chandra</td>\n",
       "      <td>664760</td>\n",
       "      <td>312</td>\n",
       "      <td>Phi St</td>\n",
       "      <td>137882671</td>\n",
       "    </tr>\n",
       "    <tr>\n",
       "      <th>1</th>\n",
       "      <td>67318</td>\n",
       "      <td>Jeremy Bowers</td>\n",
       "      <td>423327</td>\n",
       "      <td>530</td>\n",
       "      <td>Washington Pl, Apt 3A</td>\n",
       "      <td>871539279</td>\n",
       "    </tr>\n",
       "  </tbody>\n",
       "</table>\n",
       "</div>"
      ],
      "text/plain": [
       "      id            name  license_id  address_number    address_street_name  \\\n",
       "0  51739  Tushar Chandra      664760             312                 Phi St   \n",
       "1  67318   Jeremy Bowers      423327             530  Washington Pl, Apt 3A   \n",
       "\n",
       "         ssn  \n",
       "0  137882671  \n",
       "1  871539279  "
      ]
     },
     "execution_count": 24,
     "metadata": {},
     "output_type": "execute_result"
    }
   ],
   "source": [
    "# Innerjoinig two tables\n",
    "\n",
    "query_10 = '''\n",
    "SELECT p.*\n",
    "FROM drivers_license as dl\n",
    "INNER JOIN person as p on dl.id = p.license_id\n",
    "WHERE plate_number LIKE '%H42W%'\n",
    "AND gender = 'male'\n",
    ";\n",
    "'''\n",
    "pd.read_sql_query(query_10, con)"
   ]
  },
  {
   "cell_type": "markdown",
   "metadata": {
    "id": "VViEkVVl6g__"
   },
   "source": [
    "Finding out the final culprit after validating the notes given by two witnesses.\n",
    "<br> Using the `Inner Join`, we find tha actual culprit of the murder."
   ]
  },
  {
   "cell_type": "code",
   "execution_count": 27,
   "metadata": {
    "colab": {
     "base_uri": "https://localhost:8080/",
     "height": 81
    },
    "id": "tMWn8nADozgC",
    "outputId": "931a5dc0-4cf7-4184-ce01-0484007d8625"
   },
   "outputs": [
    {
     "data": {
      "text/html": [
       "<div>\n",
       "<style scoped>\n",
       "    .dataframe tbody tr th:only-of-type {\n",
       "        vertical-align: middle;\n",
       "    }\n",
       "\n",
       "    .dataframe tbody tr th {\n",
       "        vertical-align: top;\n",
       "    }\n",
       "\n",
       "    .dataframe thead th {\n",
       "        text-align: right;\n",
       "    }\n",
       "</style>\n",
       "<table border=\"1\" class=\"dataframe\">\n",
       "  <thead>\n",
       "    <tr style=\"text-align: right;\">\n",
       "      <th></th>\n",
       "      <th>id</th>\n",
       "      <th>name</th>\n",
       "      <th>license_id</th>\n",
       "      <th>address_number</th>\n",
       "      <th>address_street_name</th>\n",
       "      <th>ssn</th>\n",
       "      <th>membership_start_date</th>\n",
       "      <th>membership_status</th>\n",
       "    </tr>\n",
       "  </thead>\n",
       "  <tbody>\n",
       "    <tr>\n",
       "      <th>0</th>\n",
       "      <td>67318</td>\n",
       "      <td>Jeremy Bowers</td>\n",
       "      <td>423327</td>\n",
       "      <td>530</td>\n",
       "      <td>Washington Pl, Apt 3A</td>\n",
       "      <td>871539279</td>\n",
       "      <td>20160101</td>\n",
       "      <td>gold</td>\n",
       "    </tr>\n",
       "  </tbody>\n",
       "</table>\n",
       "</div>"
      ],
      "text/plain": [
       "      id           name  license_id  address_number    address_street_name  \\\n",
       "0  67318  Jeremy Bowers      423327             530  Washington Pl, Apt 3A   \n",
       "\n",
       "         ssn  membership_start_date membership_status  \n",
       "0  871539279               20160101              gold  "
      ]
     },
     "execution_count": 27,
     "metadata": {},
     "output_type": "execute_result"
    }
   ],
   "source": [
    "# ID 14887 Keynotes : Gold Member of GET FIT NOW GYM.\n",
    "#                     Membership Number Starting with 48Z\n",
    "#                     Has car with number plate including H42W\n",
    "# ID 16371 Keynotes : Gym Checkin on 9 Jan 2018\n",
    "\n",
    "# Validating data with the notes of 2 witnesses : Looking after the common factor of GYM, Car Details and GYM Checking\n",
    "\n",
    "query_11 = '''\n",
    "SELECT p.*,gfn.membership_start_date,gfn.membership_status\n",
    "FROM person as p\n",
    "INNER JOIN drivers_license as dl on dl.id = p.license_id\n",
    "INNER JOIN get_fit_now_member as gfn on p.id = gfn.person_id\n",
    "INNER JOIN get_fit_now_check_in as gfc on gfc.membership_id = gfn.id\n",
    "WHERE plate_number LIKE '%H42W%'\n",
    "AND gender = 'male'\n",
    "AND membership_status = 'gold'\n",
    "AND gfn.id LIKE '48Z%'\n",
    "AND check_in_date = 20180109;\n",
    "'''\n",
    "pd.read_sql_query(query_11, con)"
   ]
  },
  {
   "cell_type": "markdown",
   "metadata": {
    "id": "_xMDW4OKaomu"
   },
   "source": [
    "This following query is used to check whether the solution is correct or not.<br>\n",
    "However, the only drawback is it can run once only, after first execution."
   ]
  },
  {
   "cell_type": "code",
   "execution_count": 28,
   "metadata": {
    "id": "8PPlD1AqaG95"
   },
   "outputs": [
    {
     "ename": "TypeError",
     "evalue": "'NoneType' object is not iterable",
     "output_type": "error",
     "traceback": [
      "\u001b[1;31m---------------------------------------------------------------------------\u001b[0m",
      "\u001b[1;31mTypeError\u001b[0m                                 Traceback (most recent call last)",
      "Cell \u001b[1;32mIn[28], line 4\u001b[0m\n\u001b[0;32m      1\u001b[0m check_1 \u001b[38;5;241m=\u001b[39m \u001b[38;5;124m'''\u001b[39m\n\u001b[0;32m      2\u001b[0m \u001b[38;5;124mINSERT INTO solution VALUES (1, \u001b[39m\u001b[38;5;124m'\u001b[39m\u001b[38;5;124mJeremy Bowers\u001b[39m\u001b[38;5;124m'\u001b[39m\u001b[38;5;124m);\u001b[39m\n\u001b[0;32m      3\u001b[0m \u001b[38;5;124m'''\u001b[39m\n\u001b[1;32m----> 4\u001b[0m \u001b[43mpd\u001b[49m\u001b[38;5;241;43m.\u001b[39;49m\u001b[43mread_sql_query\u001b[49m\u001b[43m(\u001b[49m\u001b[43mcheck_1\u001b[49m\u001b[43m,\u001b[49m\u001b[43m \u001b[49m\u001b[43mcon\u001b[49m\u001b[43m)\u001b[49m\n",
      "File \u001b[1;32m~\\anaconda3\\lib\\site-packages\\pandas\\io\\sql.py:486\u001b[0m, in \u001b[0;36mread_sql_query\u001b[1;34m(sql, con, index_col, coerce_float, params, parse_dates, chunksize, dtype, dtype_backend)\u001b[0m\n\u001b[0;32m    483\u001b[0m \u001b[38;5;28;01massert\u001b[39;00m dtype_backend \u001b[38;5;129;01mis\u001b[39;00m \u001b[38;5;129;01mnot\u001b[39;00m lib\u001b[38;5;241m.\u001b[39mno_default\n\u001b[0;32m    485\u001b[0m \u001b[38;5;28;01mwith\u001b[39;00m pandasSQL_builder(con) \u001b[38;5;28;01mas\u001b[39;00m pandas_sql:\n\u001b[1;32m--> 486\u001b[0m     \u001b[38;5;28;01mreturn\u001b[39;00m \u001b[43mpandas_sql\u001b[49m\u001b[38;5;241;43m.\u001b[39;49m\u001b[43mread_query\u001b[49m\u001b[43m(\u001b[49m\n\u001b[0;32m    487\u001b[0m \u001b[43m        \u001b[49m\u001b[43msql\u001b[49m\u001b[43m,\u001b[49m\n\u001b[0;32m    488\u001b[0m \u001b[43m        \u001b[49m\u001b[43mindex_col\u001b[49m\u001b[38;5;241;43m=\u001b[39;49m\u001b[43mindex_col\u001b[49m\u001b[43m,\u001b[49m\n\u001b[0;32m    489\u001b[0m \u001b[43m        \u001b[49m\u001b[43mparams\u001b[49m\u001b[38;5;241;43m=\u001b[39;49m\u001b[43mparams\u001b[49m\u001b[43m,\u001b[49m\n\u001b[0;32m    490\u001b[0m \u001b[43m        \u001b[49m\u001b[43mcoerce_float\u001b[49m\u001b[38;5;241;43m=\u001b[39;49m\u001b[43mcoerce_float\u001b[49m\u001b[43m,\u001b[49m\n\u001b[0;32m    491\u001b[0m \u001b[43m        \u001b[49m\u001b[43mparse_dates\u001b[49m\u001b[38;5;241;43m=\u001b[39;49m\u001b[43mparse_dates\u001b[49m\u001b[43m,\u001b[49m\n\u001b[0;32m    492\u001b[0m \u001b[43m        \u001b[49m\u001b[43mchunksize\u001b[49m\u001b[38;5;241;43m=\u001b[39;49m\u001b[43mchunksize\u001b[49m\u001b[43m,\u001b[49m\n\u001b[0;32m    493\u001b[0m \u001b[43m        \u001b[49m\u001b[43mdtype\u001b[49m\u001b[38;5;241;43m=\u001b[39;49m\u001b[43mdtype\u001b[49m\u001b[43m,\u001b[49m\n\u001b[0;32m    494\u001b[0m \u001b[43m        \u001b[49m\u001b[43mdtype_backend\u001b[49m\u001b[38;5;241;43m=\u001b[39;49m\u001b[43mdtype_backend\u001b[49m\u001b[43m,\u001b[49m\n\u001b[0;32m    495\u001b[0m \u001b[43m    \u001b[49m\u001b[43m)\u001b[49m\n",
      "File \u001b[1;32m~\\anaconda3\\lib\\site-packages\\pandas\\io\\sql.py:2329\u001b[0m, in \u001b[0;36mSQLiteDatabase.read_query\u001b[1;34m(self, sql, index_col, coerce_float, parse_dates, params, chunksize, dtype, dtype_backend)\u001b[0m\n\u001b[0;32m   2317\u001b[0m \u001b[38;5;28;01mdef\u001b[39;00m \u001b[38;5;21mread_query\u001b[39m(\n\u001b[0;32m   2318\u001b[0m     \u001b[38;5;28mself\u001b[39m,\n\u001b[0;32m   2319\u001b[0m     sql,\n\u001b[1;32m   (...)\u001b[0m\n\u001b[0;32m   2326\u001b[0m     dtype_backend: DtypeBackend \u001b[38;5;241m|\u001b[39m Literal[\u001b[38;5;124m\"\u001b[39m\u001b[38;5;124mnumpy\u001b[39m\u001b[38;5;124m\"\u001b[39m] \u001b[38;5;241m=\u001b[39m \u001b[38;5;124m\"\u001b[39m\u001b[38;5;124mnumpy\u001b[39m\u001b[38;5;124m\"\u001b[39m,\n\u001b[0;32m   2327\u001b[0m ) \u001b[38;5;241m-\u001b[39m\u001b[38;5;241m>\u001b[39m DataFrame \u001b[38;5;241m|\u001b[39m Iterator[DataFrame]:\n\u001b[0;32m   2328\u001b[0m     cursor \u001b[38;5;241m=\u001b[39m \u001b[38;5;28mself\u001b[39m\u001b[38;5;241m.\u001b[39mexecute(sql, params)\n\u001b[1;32m-> 2329\u001b[0m     columns \u001b[38;5;241m=\u001b[39m [col_desc[\u001b[38;5;241m0\u001b[39m] \u001b[38;5;28;01mfor\u001b[39;00m col_desc \u001b[38;5;129;01min\u001b[39;00m cursor\u001b[38;5;241m.\u001b[39mdescription]\n\u001b[0;32m   2331\u001b[0m     \u001b[38;5;28;01mif\u001b[39;00m chunksize \u001b[38;5;129;01mis\u001b[39;00m \u001b[38;5;129;01mnot\u001b[39;00m \u001b[38;5;28;01mNone\u001b[39;00m:\n\u001b[0;32m   2332\u001b[0m         \u001b[38;5;28;01mreturn\u001b[39;00m \u001b[38;5;28mself\u001b[39m\u001b[38;5;241m.\u001b[39m_query_iterator(\n\u001b[0;32m   2333\u001b[0m             cursor,\n\u001b[0;32m   2334\u001b[0m             chunksize,\n\u001b[1;32m   (...)\u001b[0m\n\u001b[0;32m   2340\u001b[0m             dtype_backend\u001b[38;5;241m=\u001b[39mdtype_backend,\n\u001b[0;32m   2341\u001b[0m         )\n",
      "\u001b[1;31mTypeError\u001b[0m: 'NoneType' object is not iterable"
     ]
    }
   ],
   "source": [
    "check_1 = '''\n",
    "INSERT INTO solution VALUES (1, 'Jeremy Bowers');\n",
    "'''\n",
    "pd.read_sql_query(check_1, con)"
   ]
  },
  {
   "cell_type": "code",
   "execution_count": 29,
   "metadata": {
    "colab": {
     "base_uri": "https://localhost:8080/",
     "height": 98
    },
    "id": "n5UWQr7LaYkh",
    "outputId": "4fbeec06-d8ac-4889-cac7-8efd6fb2dafd"
   },
   "outputs": [
    {
     "data": {
      "text/html": [
       "<div>\n",
       "<style scoped>\n",
       "    .dataframe tbody tr th:only-of-type {\n",
       "        vertical-align: middle;\n",
       "    }\n",
       "\n",
       "    .dataframe tbody tr th {\n",
       "        vertical-align: top;\n",
       "    }\n",
       "\n",
       "    .dataframe thead th {\n",
       "        text-align: right;\n",
       "    }\n",
       "</style>\n",
       "<table border=\"1\" class=\"dataframe\">\n",
       "  <thead>\n",
       "    <tr style=\"text-align: right;\">\n",
       "      <th></th>\n",
       "      <th>value</th>\n",
       "    </tr>\n",
       "  </thead>\n",
       "  <tbody>\n",
       "    <tr>\n",
       "      <th>0</th>\n",
       "      <td>Congrats, you found the murderer! But wait, there's more... If you think you're up for a challenge, try querying the interview transcript of the murderer to find the real villain behind this crime. If you feel especially confident in your SQL skills, try to complete this final step with no more than 2 queries. Use this same INSERT statement with your new suspect to check your answer.</td>\n",
       "    </tr>\n",
       "  </tbody>\n",
       "</table>\n",
       "</div>"
      ],
      "text/plain": [
       "                                                                                                                                                                                                                                                                                                                                                                                                value\n",
       "0  Congrats, you found the murderer! But wait, there's more... If you think you're up for a challenge, try querying the interview transcript of the murderer to find the real villain behind this crime. If you feel especially confident in your SQL skills, try to complete this final step with no more than 2 queries. Use this same INSERT statement with your new suspect to check your answer."
      ]
     },
     "execution_count": 29,
     "metadata": {},
     "output_type": "execute_result"
    }
   ],
   "source": [
    "check_1a = '''\n",
    "SELECT value FROM solution;\n",
    "'''\n",
    "pd.read_sql_query(check_1a, con)"
   ]
  },
  {
   "cell_type": "markdown",
   "metadata": {
    "id": "RNsKYYgH6y0M"
   },
   "source": [
    "**JEREMY BOWERS is the murderer.**"
   ]
  },
  {
   "cell_type": "markdown",
   "metadata": {
    "id": "aORhUWMp_LYt"
   },
   "source": [
    "Congrats, you found the murderer! But wait, there's more... If you think you're up for a challenge, try querying the interview transcript of the murderer to find the real villain behind this crime. If you feel especially confident in your SQL skills, try to complete this final step with no more than 2 queries. Use this same INSERT statement with your new suspect to check your answer."
   ]
  },
  {
   "cell_type": "markdown",
   "metadata": {
    "id": "1OW1DpDN8sHX"
   },
   "source": [
    "## **Finding the Master-Mind**"
   ]
  },
  {
   "cell_type": "markdown",
   "metadata": {
    "id": "x_RPkgt17HtX"
   },
   "source": [
    "To find the mastermind behind all these mess, wee need to interview `JEREMY BOWERS` <br>\n",
    "We will check for his `transcripts` in `interview` table"
   ]
  },
  {
   "cell_type": "code",
   "execution_count": 30,
   "metadata": {
    "colab": {
     "base_uri": "https://localhost:8080/",
     "height": 98
    },
    "id": "2T0-Jbjn8rv4",
    "outputId": "832c8a5e-adde-4978-8f87-a02a2c67016e"
   },
   "outputs": [
    {
     "data": {
      "text/html": [
       "<div>\n",
       "<style scoped>\n",
       "    .dataframe tbody tr th:only-of-type {\n",
       "        vertical-align: middle;\n",
       "    }\n",
       "\n",
       "    .dataframe tbody tr th {\n",
       "        vertical-align: top;\n",
       "    }\n",
       "\n",
       "    .dataframe thead th {\n",
       "        text-align: right;\n",
       "    }\n",
       "</style>\n",
       "<table border=\"1\" class=\"dataframe\">\n",
       "  <thead>\n",
       "    <tr style=\"text-align: right;\">\n",
       "      <th></th>\n",
       "      <th>person_id</th>\n",
       "      <th>transcript</th>\n",
       "    </tr>\n",
       "  </thead>\n",
       "  <tbody>\n",
       "    <tr>\n",
       "      <th>0</th>\n",
       "      <td>67318</td>\n",
       "      <td>I was hired by a woman with a lot of money. I don't know her name but I know she's around 5'5\" (65\") or 5'7\" (67\"). She has red hair and she drives a Tesla Model S. I know that she attended the SQL Symphony Concert 3 times in December 2017.\\n</td>\n",
       "    </tr>\n",
       "  </tbody>\n",
       "</table>\n",
       "</div>"
      ],
      "text/plain": [
       "   person_id  \\\n",
       "0      67318   \n",
       "\n",
       "                                                                                                                                                                                                                                           transcript  \n",
       "0  I was hired by a woman with a lot of money. I don't know her name but I know she's around 5'5\" (65\") or 5'7\" (67\"). She has red hair and she drives a Tesla Model S. I know that she attended the SQL Symphony Concert 3 times in December 2017.\\n  "
      ]
     },
     "execution_count": 30,
     "metadata": {},
     "output_type": "execute_result"
    }
   ],
   "source": [
    "# Interviewing the culprit of the murder\n",
    "\n",
    "mind_0='''\n",
    "SELECT *\n",
    "FROM interview\n",
    "WHERE person_id = 67318\n",
    ";\n",
    "'''\n",
    "pd.read_sql_query(mind_0, con)"
   ]
  },
  {
   "cell_type": "markdown",
   "metadata": {
    "id": "K7z3C1eX7eKQ"
   },
   "source": [
    "As per `JEREMY BOWERS`' interview, he concluded the characteristics of the mastermind.<br>\n",
    "The characteristic:\n",
    "* `Gender` - Female\n",
    "* `Height` - Between 65\" and 67\"\n",
    "* `Hair` - Red\n",
    "* `Car` - Tesla Model S\n",
    "* `Concert` - SQL Symphony Concert [3 Times in December]\n",
    "\n",
    "To find the person we will perform the query with following steps:\n",
    "1. Select the table `drivers_license`\n",
    "2. Search for `hair_color` - `red`\n",
    "3. Search for `car_make` - `Tesla` and `car_model` - `Model S`\n",
    "4. Ranging the `age` between `65\" and 67\"`"
   ]
  },
  {
   "cell_type": "code",
   "execution_count": 31,
   "metadata": {
    "colab": {
     "base_uri": "https://localhost:8080/",
     "height": 143
    },
    "id": "AJJhJ-3Z_oES",
    "outputId": "8c0f4ffb-8fd3-468d-bb9e-8ae5a1a2f6e9"
   },
   "outputs": [
    {
     "data": {
      "text/html": [
       "<div>\n",
       "<style scoped>\n",
       "    .dataframe tbody tr th:only-of-type {\n",
       "        vertical-align: middle;\n",
       "    }\n",
       "\n",
       "    .dataframe tbody tr th {\n",
       "        vertical-align: top;\n",
       "    }\n",
       "\n",
       "    .dataframe thead th {\n",
       "        text-align: right;\n",
       "    }\n",
       "</style>\n",
       "<table border=\"1\" class=\"dataframe\">\n",
       "  <thead>\n",
       "    <tr style=\"text-align: right;\">\n",
       "      <th></th>\n",
       "      <th>id</th>\n",
       "      <th>age</th>\n",
       "      <th>height</th>\n",
       "      <th>eye_color</th>\n",
       "      <th>hair_color</th>\n",
       "      <th>gender</th>\n",
       "      <th>plate_number</th>\n",
       "      <th>car_make</th>\n",
       "      <th>car_model</th>\n",
       "    </tr>\n",
       "  </thead>\n",
       "  <tbody>\n",
       "    <tr>\n",
       "      <th>0</th>\n",
       "      <td>202298</td>\n",
       "      <td>68</td>\n",
       "      <td>66</td>\n",
       "      <td>green</td>\n",
       "      <td>red</td>\n",
       "      <td>female</td>\n",
       "      <td>500123</td>\n",
       "      <td>Tesla</td>\n",
       "      <td>Model S</td>\n",
       "    </tr>\n",
       "    <tr>\n",
       "      <th>1</th>\n",
       "      <td>291182</td>\n",
       "      <td>65</td>\n",
       "      <td>66</td>\n",
       "      <td>blue</td>\n",
       "      <td>red</td>\n",
       "      <td>female</td>\n",
       "      <td>08CM64</td>\n",
       "      <td>Tesla</td>\n",
       "      <td>Model S</td>\n",
       "    </tr>\n",
       "    <tr>\n",
       "      <th>2</th>\n",
       "      <td>918773</td>\n",
       "      <td>48</td>\n",
       "      <td>65</td>\n",
       "      <td>black</td>\n",
       "      <td>red</td>\n",
       "      <td>female</td>\n",
       "      <td>917UU3</td>\n",
       "      <td>Tesla</td>\n",
       "      <td>Model S</td>\n",
       "    </tr>\n",
       "  </tbody>\n",
       "</table>\n",
       "</div>"
      ],
      "text/plain": [
       "       id  age  height eye_color hair_color  gender plate_number car_make  \\\n",
       "0  202298   68      66     green        red  female       500123    Tesla   \n",
       "1  291182   65      66      blue        red  female       08CM64    Tesla   \n",
       "2  918773   48      65     black        red  female       917UU3    Tesla   \n",
       "\n",
       "  car_model  \n",
       "0   Model S  \n",
       "1   Model S  \n",
       "2   Model S  "
      ]
     },
     "execution_count": 31,
     "metadata": {},
     "output_type": "execute_result"
    }
   ],
   "source": [
    "# Keynotes from the interview : Gender - Female\n",
    "#                               Height - Between 65\" and 67\"\n",
    "#                               Hair - Red\n",
    "#                               Car - Tesla Model S\n",
    "#                               Concert - SQL Symphony Concert x3 in December\n",
    "\n",
    "# Validating the data using details such as CAR Details, Height and Hair Color\n",
    "\n",
    "mind_1='''\n",
    "SELECT *\n",
    "FROM drivers_license\n",
    "WHERE car_make = 'Tesla'\n",
    "AND car_model = 'Model S'\n",
    "AND hair_color = 'red'\n",
    "AND height BETWEEN 65 AND 67\n",
    ";\n",
    "'''\n",
    "pd.read_sql_query(mind_1, con)"
   ]
  },
  {
   "cell_type": "markdown",
   "metadata": {
    "id": "10hHyDxd9V4K"
   },
   "source": [
    "5. Select `facebook_event_checkin`\n",
    "6. Search for `event_name` - `SQL Symphony Concert`\n",
    "7. Ranging the `date` between `20171201 and 20171231`"
   ]
  },
  {
   "cell_type": "code",
   "execution_count": 32,
   "metadata": {
    "colab": {
     "base_uri": "https://localhost:8080/",
     "height": 708
    },
    "id": "uN8vSbLJQAE5",
    "outputId": "d4ff3b01-743b-4cca-ed9d-23976403a9d8"
   },
   "outputs": [
    {
     "data": {
      "text/html": [
       "<div>\n",
       "<style scoped>\n",
       "    .dataframe tbody tr th:only-of-type {\n",
       "        vertical-align: middle;\n",
       "    }\n",
       "\n",
       "    .dataframe tbody tr th {\n",
       "        vertical-align: top;\n",
       "    }\n",
       "\n",
       "    .dataframe thead th {\n",
       "        text-align: right;\n",
       "    }\n",
       "</style>\n",
       "<table border=\"1\" class=\"dataframe\">\n",
       "  <thead>\n",
       "    <tr style=\"text-align: right;\">\n",
       "      <th></th>\n",
       "      <th>person_id</th>\n",
       "      <th>event_id</th>\n",
       "      <th>event_name</th>\n",
       "      <th>date</th>\n",
       "    </tr>\n",
       "  </thead>\n",
       "  <tbody>\n",
       "    <tr>\n",
       "      <th>0</th>\n",
       "      <td>62596</td>\n",
       "      <td>1143</td>\n",
       "      <td>SQL Symphony Concert</td>\n",
       "      <td>20171225</td>\n",
       "    </tr>\n",
       "    <tr>\n",
       "      <th>1</th>\n",
       "      <td>19260</td>\n",
       "      <td>1143</td>\n",
       "      <td>SQL Symphony Concert</td>\n",
       "      <td>20171214</td>\n",
       "    </tr>\n",
       "    <tr>\n",
       "      <th>2</th>\n",
       "      <td>58898</td>\n",
       "      <td>1143</td>\n",
       "      <td>SQL Symphony Concert</td>\n",
       "      <td>20171220</td>\n",
       "    </tr>\n",
       "    <tr>\n",
       "      <th>3</th>\n",
       "      <td>69699</td>\n",
       "      <td>1143</td>\n",
       "      <td>SQL Symphony Concert</td>\n",
       "      <td>20171214</td>\n",
       "    </tr>\n",
       "    <tr>\n",
       "      <th>4</th>\n",
       "      <td>19292</td>\n",
       "      <td>1143</td>\n",
       "      <td>SQL Symphony Concert</td>\n",
       "      <td>20171213</td>\n",
       "    </tr>\n",
       "    <tr>\n",
       "      <th>5</th>\n",
       "      <td>43366</td>\n",
       "      <td>1143</td>\n",
       "      <td>SQL Symphony Concert</td>\n",
       "      <td>20171207</td>\n",
       "    </tr>\n",
       "    <tr>\n",
       "      <th>6</th>\n",
       "      <td>92343</td>\n",
       "      <td>1143</td>\n",
       "      <td>SQL Symphony Concert</td>\n",
       "      <td>20171212</td>\n",
       "    </tr>\n",
       "    <tr>\n",
       "      <th>7</th>\n",
       "      <td>28582</td>\n",
       "      <td>1143</td>\n",
       "      <td>SQL Symphony Concert</td>\n",
       "      <td>20171220</td>\n",
       "    </tr>\n",
       "    <tr>\n",
       "      <th>8</th>\n",
       "      <td>28582</td>\n",
       "      <td>1143</td>\n",
       "      <td>SQL Symphony Concert</td>\n",
       "      <td>20171215</td>\n",
       "    </tr>\n",
       "    <tr>\n",
       "      <th>9</th>\n",
       "      <td>81526</td>\n",
       "      <td>1143</td>\n",
       "      <td>SQL Symphony Concert</td>\n",
       "      <td>20171202</td>\n",
       "    </tr>\n",
       "    <tr>\n",
       "      <th>10</th>\n",
       "      <td>24397</td>\n",
       "      <td>1143</td>\n",
       "      <td>SQL Symphony Concert</td>\n",
       "      <td>20171208</td>\n",
       "    </tr>\n",
       "    <tr>\n",
       "      <th>11</th>\n",
       "      <td>11173</td>\n",
       "      <td>1143</td>\n",
       "      <td>SQL Symphony Concert</td>\n",
       "      <td>20171223</td>\n",
       "    </tr>\n",
       "    <tr>\n",
       "      <th>12</th>\n",
       "      <td>79312</td>\n",
       "      <td>1143</td>\n",
       "      <td>SQL Symphony Concert</td>\n",
       "      <td>20171203</td>\n",
       "    </tr>\n",
       "    <tr>\n",
       "      <th>13</th>\n",
       "      <td>69325</td>\n",
       "      <td>1143</td>\n",
       "      <td>SQL Symphony Concert</td>\n",
       "      <td>20171206</td>\n",
       "    </tr>\n",
       "    <tr>\n",
       "      <th>14</th>\n",
       "      <td>24556</td>\n",
       "      <td>1143</td>\n",
       "      <td>SQL Symphony Concert</td>\n",
       "      <td>20171207</td>\n",
       "    </tr>\n",
       "    <tr>\n",
       "      <th>15</th>\n",
       "      <td>24556</td>\n",
       "      <td>1143</td>\n",
       "      <td>SQL Symphony Concert</td>\n",
       "      <td>20171221</td>\n",
       "    </tr>\n",
       "    <tr>\n",
       "      <th>16</th>\n",
       "      <td>24556</td>\n",
       "      <td>1143</td>\n",
       "      <td>SQL Symphony Concert</td>\n",
       "      <td>20171224</td>\n",
       "    </tr>\n",
       "    <tr>\n",
       "      <th>17</th>\n",
       "      <td>99716</td>\n",
       "      <td>1143</td>\n",
       "      <td>SQL Symphony Concert</td>\n",
       "      <td>20171206</td>\n",
       "    </tr>\n",
       "    <tr>\n",
       "      <th>18</th>\n",
       "      <td>99716</td>\n",
       "      <td>1143</td>\n",
       "      <td>SQL Symphony Concert</td>\n",
       "      <td>20171212</td>\n",
       "    </tr>\n",
       "    <tr>\n",
       "      <th>19</th>\n",
       "      <td>99716</td>\n",
       "      <td>1143</td>\n",
       "      <td>SQL Symphony Concert</td>\n",
       "      <td>20171229</td>\n",
       "    </tr>\n",
       "    <tr>\n",
       "      <th>20</th>\n",
       "      <td>67318</td>\n",
       "      <td>1143</td>\n",
       "      <td>SQL Symphony Concert</td>\n",
       "      <td>20171206</td>\n",
       "    </tr>\n",
       "  </tbody>\n",
       "</table>\n",
       "</div>"
      ],
      "text/plain": [
       "    person_id  event_id            event_name      date\n",
       "0       62596      1143  SQL Symphony Concert  20171225\n",
       "1       19260      1143  SQL Symphony Concert  20171214\n",
       "2       58898      1143  SQL Symphony Concert  20171220\n",
       "3       69699      1143  SQL Symphony Concert  20171214\n",
       "4       19292      1143  SQL Symphony Concert  20171213\n",
       "5       43366      1143  SQL Symphony Concert  20171207\n",
       "6       92343      1143  SQL Symphony Concert  20171212\n",
       "7       28582      1143  SQL Symphony Concert  20171220\n",
       "8       28582      1143  SQL Symphony Concert  20171215\n",
       "9       81526      1143  SQL Symphony Concert  20171202\n",
       "10      24397      1143  SQL Symphony Concert  20171208\n",
       "11      11173      1143  SQL Symphony Concert  20171223\n",
       "12      79312      1143  SQL Symphony Concert  20171203\n",
       "13      69325      1143  SQL Symphony Concert  20171206\n",
       "14      24556      1143  SQL Symphony Concert  20171207\n",
       "15      24556      1143  SQL Symphony Concert  20171221\n",
       "16      24556      1143  SQL Symphony Concert  20171224\n",
       "17      99716      1143  SQL Symphony Concert  20171206\n",
       "18      99716      1143  SQL Symphony Concert  20171212\n",
       "19      99716      1143  SQL Symphony Concert  20171229\n",
       "20      67318      1143  SQL Symphony Concert  20171206"
      ]
     },
     "execution_count": 32,
     "metadata": {},
     "output_type": "execute_result"
    }
   ],
   "source": [
    "# Validating the data using CONCERT CHECKIN\n",
    "\n",
    "mind_2='''\n",
    "SELECT *\n",
    "FROM facebook_event_checkin\n",
    "WHERE event_name = 'SQL Symphony Concert'\n",
    "AND date BETWEEN 20171201 AND 20171231\n",
    ";\n",
    "'''\n",
    "pd.read_sql_query(mind_2, con)"
   ]
  },
  {
   "cell_type": "markdown",
   "metadata": {
    "id": "g_swqVPk90mE"
   },
   "source": [
    "We will now Inner Join the `person`, `drivers_license`, `facebook_event_checkin` and `income` tables on common parameters to find mastermind.<br>\n",
    "Also check if the person has a good `annual_income`."
   ]
  },
  {
   "cell_type": "code",
   "execution_count": 33,
   "metadata": {
    "colab": {
     "base_uri": "https://localhost:8080/",
     "height": 143
    },
    "id": "Fk9cNslTP6fH",
    "outputId": "3e70875d-9332-4c6e-b515-86e1ce4ee175"
   },
   "outputs": [
    {
     "data": {
      "text/html": [
       "<div>\n",
       "<style scoped>\n",
       "    .dataframe tbody tr th:only-of-type {\n",
       "        vertical-align: middle;\n",
       "    }\n",
       "\n",
       "    .dataframe tbody tr th {\n",
       "        vertical-align: top;\n",
       "    }\n",
       "\n",
       "    .dataframe thead th {\n",
       "        text-align: right;\n",
       "    }\n",
       "</style>\n",
       "<table border=\"1\" class=\"dataframe\">\n",
       "  <thead>\n",
       "    <tr style=\"text-align: right;\">\n",
       "      <th></th>\n",
       "      <th>id</th>\n",
       "      <th>name</th>\n",
       "      <th>license_id</th>\n",
       "      <th>address_number</th>\n",
       "      <th>address_street_name</th>\n",
       "      <th>ssn</th>\n",
       "      <th>car_make</th>\n",
       "      <th>car_model</th>\n",
       "      <th>hair_color</th>\n",
       "      <th>height</th>\n",
       "      <th>annual_income</th>\n",
       "    </tr>\n",
       "  </thead>\n",
       "  <tbody>\n",
       "    <tr>\n",
       "      <th>0</th>\n",
       "      <td>99716</td>\n",
       "      <td>Miranda Priestly</td>\n",
       "      <td>202298</td>\n",
       "      <td>1883</td>\n",
       "      <td>Golden Ave</td>\n",
       "      <td>987756388</td>\n",
       "      <td>Tesla</td>\n",
       "      <td>Model S</td>\n",
       "      <td>red</td>\n",
       "      <td>66</td>\n",
       "      <td>310000</td>\n",
       "    </tr>\n",
       "    <tr>\n",
       "      <th>1</th>\n",
       "      <td>99716</td>\n",
       "      <td>Miranda Priestly</td>\n",
       "      <td>202298</td>\n",
       "      <td>1883</td>\n",
       "      <td>Golden Ave</td>\n",
       "      <td>987756388</td>\n",
       "      <td>Tesla</td>\n",
       "      <td>Model S</td>\n",
       "      <td>red</td>\n",
       "      <td>66</td>\n",
       "      <td>310000</td>\n",
       "    </tr>\n",
       "    <tr>\n",
       "      <th>2</th>\n",
       "      <td>99716</td>\n",
       "      <td>Miranda Priestly</td>\n",
       "      <td>202298</td>\n",
       "      <td>1883</td>\n",
       "      <td>Golden Ave</td>\n",
       "      <td>987756388</td>\n",
       "      <td>Tesla</td>\n",
       "      <td>Model S</td>\n",
       "      <td>red</td>\n",
       "      <td>66</td>\n",
       "      <td>310000</td>\n",
       "    </tr>\n",
       "  </tbody>\n",
       "</table>\n",
       "</div>"
      ],
      "text/plain": [
       "      id              name  license_id  address_number address_street_name  \\\n",
       "0  99716  Miranda Priestly      202298            1883          Golden Ave   \n",
       "1  99716  Miranda Priestly      202298            1883          Golden Ave   \n",
       "2  99716  Miranda Priestly      202298            1883          Golden Ave   \n",
       "\n",
       "         ssn car_make car_model hair_color  height  annual_income  \n",
       "0  987756388    Tesla   Model S        red      66         310000  \n",
       "1  987756388    Tesla   Model S        red      66         310000  \n",
       "2  987756388    Tesla   Model S        red      66         310000  "
      ]
     },
     "execution_count": 33,
     "metadata": {},
     "output_type": "execute_result"
    }
   ],
   "source": [
    "# Keynotes from the culprit interview : Gender - Female\n",
    "#                               Height - Between 65\" and 67\"\n",
    "#                               Hair - Red\n",
    "#                               Car - Tesla Model S\n",
    "#                               Concert - SQL Symphony Concert x3 in December\n",
    "\n",
    "# Validating the data using CONCERT CHECKIN, CAR DETAILS and PERSONAL CHARACTERISTICS\n",
    "\n",
    "mind_3='''\n",
    "SELECT p.*, dl.car_make, dl.car_model, dl.hair_color, dl.height, inc.annual_income\n",
    "FROM person as p\n",
    "INNER JOIN income as inc on inc.ssn = p.ssn\n",
    "INNER JOIN drivers_license as dl on dl.id = p.license_id\n",
    "INNER JOIN facebook_event_checkin as fec on p.id = fec.person_id\n",
    "WHERE car_make = 'Tesla'\n",
    "AND car_model = 'Model S'\n",
    "AND hair_color = 'red'\n",
    "AND height BETWEEN 65 AND 67\n",
    "AND event_name = 'SQL Symphony Concert'\n",
    "AND date BETWEEN 20171201 AND 20171231\n",
    ";\n",
    "'''\n",
    "pd.read_sql_query(mind_3, con)"
   ]
  },
  {
   "cell_type": "markdown",
   "metadata": {
    "id": "SC4PSpVI-saW"
   },
   "source": [
    "Congrats, you found the brains behind the murder! Everyone in SQL City hails you as the greatest SQL detective of all time. Time to break out the champagne!\n"
   ]
  },
  {
   "cell_type": "markdown",
   "metadata": {
    "id": "VNQRrYidbXj0"
   },
   "source": [
    "This following query is used to check whether the solution is correct or not.<br>\n",
    "However, the only drawback is it can run once only, after first execution."
   ]
  },
  {
   "cell_type": "code",
   "execution_count": 34,
   "metadata": {
    "id": "XIr3ayEma3TX"
   },
   "outputs": [
    {
     "ename": "TypeError",
     "evalue": "'NoneType' object is not iterable",
     "output_type": "error",
     "traceback": [
      "\u001b[1;31m---------------------------------------------------------------------------\u001b[0m",
      "\u001b[1;31mTypeError\u001b[0m                                 Traceback (most recent call last)",
      "Cell \u001b[1;32mIn[34], line 4\u001b[0m\n\u001b[0;32m      1\u001b[0m check_2 \u001b[38;5;241m=\u001b[39m \u001b[38;5;124m'''\u001b[39m\n\u001b[0;32m      2\u001b[0m \u001b[38;5;124mINSERT INTO solution VALUES (1, \u001b[39m\u001b[38;5;124m'\u001b[39m\u001b[38;5;124mMiranda Priestly\u001b[39m\u001b[38;5;124m'\u001b[39m\u001b[38;5;124m);\u001b[39m\n\u001b[0;32m      3\u001b[0m \u001b[38;5;124m'''\u001b[39m\n\u001b[1;32m----> 4\u001b[0m \u001b[43mpd\u001b[49m\u001b[38;5;241;43m.\u001b[39;49m\u001b[43mread_sql_query\u001b[49m\u001b[43m(\u001b[49m\u001b[43mcheck_2\u001b[49m\u001b[43m,\u001b[49m\u001b[43m \u001b[49m\u001b[43mcon\u001b[49m\u001b[43m)\u001b[49m\n",
      "File \u001b[1;32m~\\anaconda3\\lib\\site-packages\\pandas\\io\\sql.py:486\u001b[0m, in \u001b[0;36mread_sql_query\u001b[1;34m(sql, con, index_col, coerce_float, params, parse_dates, chunksize, dtype, dtype_backend)\u001b[0m\n\u001b[0;32m    483\u001b[0m \u001b[38;5;28;01massert\u001b[39;00m dtype_backend \u001b[38;5;129;01mis\u001b[39;00m \u001b[38;5;129;01mnot\u001b[39;00m lib\u001b[38;5;241m.\u001b[39mno_default\n\u001b[0;32m    485\u001b[0m \u001b[38;5;28;01mwith\u001b[39;00m pandasSQL_builder(con) \u001b[38;5;28;01mas\u001b[39;00m pandas_sql:\n\u001b[1;32m--> 486\u001b[0m     \u001b[38;5;28;01mreturn\u001b[39;00m \u001b[43mpandas_sql\u001b[49m\u001b[38;5;241;43m.\u001b[39;49m\u001b[43mread_query\u001b[49m\u001b[43m(\u001b[49m\n\u001b[0;32m    487\u001b[0m \u001b[43m        \u001b[49m\u001b[43msql\u001b[49m\u001b[43m,\u001b[49m\n\u001b[0;32m    488\u001b[0m \u001b[43m        \u001b[49m\u001b[43mindex_col\u001b[49m\u001b[38;5;241;43m=\u001b[39;49m\u001b[43mindex_col\u001b[49m\u001b[43m,\u001b[49m\n\u001b[0;32m    489\u001b[0m \u001b[43m        \u001b[49m\u001b[43mparams\u001b[49m\u001b[38;5;241;43m=\u001b[39;49m\u001b[43mparams\u001b[49m\u001b[43m,\u001b[49m\n\u001b[0;32m    490\u001b[0m \u001b[43m        \u001b[49m\u001b[43mcoerce_float\u001b[49m\u001b[38;5;241;43m=\u001b[39;49m\u001b[43mcoerce_float\u001b[49m\u001b[43m,\u001b[49m\n\u001b[0;32m    491\u001b[0m \u001b[43m        \u001b[49m\u001b[43mparse_dates\u001b[49m\u001b[38;5;241;43m=\u001b[39;49m\u001b[43mparse_dates\u001b[49m\u001b[43m,\u001b[49m\n\u001b[0;32m    492\u001b[0m \u001b[43m        \u001b[49m\u001b[43mchunksize\u001b[49m\u001b[38;5;241;43m=\u001b[39;49m\u001b[43mchunksize\u001b[49m\u001b[43m,\u001b[49m\n\u001b[0;32m    493\u001b[0m \u001b[43m        \u001b[49m\u001b[43mdtype\u001b[49m\u001b[38;5;241;43m=\u001b[39;49m\u001b[43mdtype\u001b[49m\u001b[43m,\u001b[49m\n\u001b[0;32m    494\u001b[0m \u001b[43m        \u001b[49m\u001b[43mdtype_backend\u001b[49m\u001b[38;5;241;43m=\u001b[39;49m\u001b[43mdtype_backend\u001b[49m\u001b[43m,\u001b[49m\n\u001b[0;32m    495\u001b[0m \u001b[43m    \u001b[49m\u001b[43m)\u001b[49m\n",
      "File \u001b[1;32m~\\anaconda3\\lib\\site-packages\\pandas\\io\\sql.py:2329\u001b[0m, in \u001b[0;36mSQLiteDatabase.read_query\u001b[1;34m(self, sql, index_col, coerce_float, parse_dates, params, chunksize, dtype, dtype_backend)\u001b[0m\n\u001b[0;32m   2317\u001b[0m \u001b[38;5;28;01mdef\u001b[39;00m \u001b[38;5;21mread_query\u001b[39m(\n\u001b[0;32m   2318\u001b[0m     \u001b[38;5;28mself\u001b[39m,\n\u001b[0;32m   2319\u001b[0m     sql,\n\u001b[1;32m   (...)\u001b[0m\n\u001b[0;32m   2326\u001b[0m     dtype_backend: DtypeBackend \u001b[38;5;241m|\u001b[39m Literal[\u001b[38;5;124m\"\u001b[39m\u001b[38;5;124mnumpy\u001b[39m\u001b[38;5;124m\"\u001b[39m] \u001b[38;5;241m=\u001b[39m \u001b[38;5;124m\"\u001b[39m\u001b[38;5;124mnumpy\u001b[39m\u001b[38;5;124m\"\u001b[39m,\n\u001b[0;32m   2327\u001b[0m ) \u001b[38;5;241m-\u001b[39m\u001b[38;5;241m>\u001b[39m DataFrame \u001b[38;5;241m|\u001b[39m Iterator[DataFrame]:\n\u001b[0;32m   2328\u001b[0m     cursor \u001b[38;5;241m=\u001b[39m \u001b[38;5;28mself\u001b[39m\u001b[38;5;241m.\u001b[39mexecute(sql, params)\n\u001b[1;32m-> 2329\u001b[0m     columns \u001b[38;5;241m=\u001b[39m [col_desc[\u001b[38;5;241m0\u001b[39m] \u001b[38;5;28;01mfor\u001b[39;00m col_desc \u001b[38;5;129;01min\u001b[39;00m cursor\u001b[38;5;241m.\u001b[39mdescription]\n\u001b[0;32m   2331\u001b[0m     \u001b[38;5;28;01mif\u001b[39;00m chunksize \u001b[38;5;129;01mis\u001b[39;00m \u001b[38;5;129;01mnot\u001b[39;00m \u001b[38;5;28;01mNone\u001b[39;00m:\n\u001b[0;32m   2332\u001b[0m         \u001b[38;5;28;01mreturn\u001b[39;00m \u001b[38;5;28mself\u001b[39m\u001b[38;5;241m.\u001b[39m_query_iterator(\n\u001b[0;32m   2333\u001b[0m             cursor,\n\u001b[0;32m   2334\u001b[0m             chunksize,\n\u001b[1;32m   (...)\u001b[0m\n\u001b[0;32m   2340\u001b[0m             dtype_backend\u001b[38;5;241m=\u001b[39mdtype_backend,\n\u001b[0;32m   2341\u001b[0m         )\n",
      "\u001b[1;31mTypeError\u001b[0m: 'NoneType' object is not iterable"
     ]
    }
   ],
   "source": [
    "check_2 = '''\n",
    "INSERT INTO solution VALUES (1, 'Miranda Priestly');\n",
    "'''\n",
    "pd.read_sql_query(check_2, con)"
   ]
  },
  {
   "cell_type": "code",
   "execution_count": 35,
   "metadata": {
    "colab": {
     "base_uri": "https://localhost:8080/",
     "height": 81
    },
    "id": "3D9IcwT-a3mi",
    "outputId": "5c86529e-65dd-499e-d2db-dcef0168ebf3"
   },
   "outputs": [
    {
     "data": {
      "text/html": [
       "<div>\n",
       "<style scoped>\n",
       "    .dataframe tbody tr th:only-of-type {\n",
       "        vertical-align: middle;\n",
       "    }\n",
       "\n",
       "    .dataframe tbody tr th {\n",
       "        vertical-align: top;\n",
       "    }\n",
       "\n",
       "    .dataframe thead th {\n",
       "        text-align: right;\n",
       "    }\n",
       "</style>\n",
       "<table border=\"1\" class=\"dataframe\">\n",
       "  <thead>\n",
       "    <tr style=\"text-align: right;\">\n",
       "      <th></th>\n",
       "      <th>value</th>\n",
       "    </tr>\n",
       "  </thead>\n",
       "  <tbody>\n",
       "    <tr>\n",
       "      <th>0</th>\n",
       "      <td>Congrats, you found the brains behind the murder! Everyone in SQL City hails you as the greatest SQL detective of all time. Time to break out the champagne!</td>\n",
       "    </tr>\n",
       "  </tbody>\n",
       "</table>\n",
       "</div>"
      ],
      "text/plain": [
       "                                                                                                                                                          value\n",
       "0  Congrats, you found the brains behind the murder! Everyone in SQL City hails you as the greatest SQL detective of all time. Time to break out the champagne!"
      ]
     },
     "execution_count": 35,
     "metadata": {},
     "output_type": "execute_result"
    }
   ],
   "source": [
    "check_2a = '''\n",
    "SELECT value FROM solution;\n",
    "'''\n",
    "pd.read_sql_query(check_2a, con)"
   ]
  },
  {
   "cell_type": "markdown",
   "metadata": {
    "id": "78fk-grv-4BD"
   },
   "source": [
    "**MIRANDA PRIESTLY** is the mastermind behind the murder. Her `income` justifies that she has enough wealth to hire **JEREMY BOWERS** and visited the `SQL Symphony Concert` 3 times in `December`."
   ]
  },
  {
   "cell_type": "code",
   "execution_count": null,
   "metadata": {},
   "outputs": [],
   "source": []
  }
 ],
 "metadata": {
  "colab": {
   "collapsed_sections": [
    "LJL0exUsYs4O",
    "nZg8y8hqZJjc",
    "4kJm4ZELZJzy",
    "WYGHMBqDZJ9Z",
    "N6QyNM4_ZKFL",
    "2rAtQP9_ZKMi",
    "d03LhIKCfWoC",
    "R2epFiAsfWsp",
    "1UMuiw5CfgPk"
   ],
   "provenance": []
  },
  "kernelspec": {
   "display_name": "Python 3 (ipykernel)",
   "language": "python",
   "name": "python3"
  },
  "language_info": {
   "codemirror_mode": {
    "name": "ipython",
    "version": 3
   },
   "file_extension": ".py",
   "mimetype": "text/x-python",
   "name": "python",
   "nbconvert_exporter": "python",
   "pygments_lexer": "ipython3",
   "version": "3.9.16"
  }
 },
 "nbformat": 4,
 "nbformat_minor": 1
}
